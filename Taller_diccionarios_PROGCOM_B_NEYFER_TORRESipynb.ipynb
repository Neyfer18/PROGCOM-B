{
  "nbformat": 4,
  "nbformat_minor": 0,
  "metadata": {
    "colab": {
      "provenance": []
    },
    "kernelspec": {
      "name": "python3",
      "display_name": "Python 3"
    },
    "language_info": {
      "name": "python"
    }
  },
  "cells": [
    {
      "cell_type": "markdown",
      "source": [
        "un diccionario que almacena n nombres de usuarios, sus alturas, sus pesos, IMC y  descripcion"
      ],
      "metadata": {
        "id": "X1NDpJnRiac9"
      }
    },
    {
      "cell_type": "code",
      "execution_count": null,
      "metadata": {
        "colab": {
          "base_uri": "https://localhost:8080/"
        },
        "id": "2vpVIdMdfJp9",
        "outputId": "87f440f3-30d6-4397-d04b-e65f354bdac5"
      },
      "outputs": [
        {
          "output_type": "stream",
          "name": "stdout",
          "text": [
            "Neyfer\n",
            "21.48\n",
            "Carlos tiene una rutina de entrenamiento muy dura y disfruta de los deportes intensos.\n"
          ]
        }
      ],
      "source": [
        "usuarios = {\n",
        "    \"usuario1\": {\n",
        "        \"nombre\": \"Neyfer\",\n",
        "        \"altura\": 1.75,\n",
        "        \"peso\": 70,\n",
        "        \"imc\": 22.86,\n",
        "        \"descripcion\": \"Neyfer es un  deportista que se cuida mucho.\"\n",
        "    },\n",
        "    \"usuario2\": {\n",
        "        \"nombre\": \"Yesith\",\n",
        "        \"altura\": 1.60,\n",
        "        \"peso\": 55,\n",
        "        \"imc\": 21.48,\n",
        "        \"descripcion\": \"Yesith está buscando nuevas formas de mejorar su salud.\"\n",
        "    },\n",
        "    \"usuario3\": {\n",
        "        \"nombre\": \"Carlos\",\n",
        "        \"altura\": 1.80,\n",
        "        \"peso\": 85,\n",
        "        \"imc\": 26.23,\n",
        "        \"descripcion\": \"Carlos tiene una rutina de entrenamiento muy dura y disfruta de los deportes intensos.\"\n",
        "    }\n",
        "}\n",
        "print(usuarios[\"usuario1\"][\"nombre\"])\n",
        "print(usuarios[\"usuario2\"][\"imc\"])\n",
        "print(usuarios[\"usuario3\"][\"descripcion\"])"
      ]
    },
    {
      "cell_type": "markdown",
      "source": [
        "un diccionario que almacena n codigos, sus respectivas 5 notas y su promedio"
      ],
      "metadata": {
        "id": "mVDDOKqEk3pC"
      }
    },
    {
      "cell_type": "code",
      "source": [
        "estudiantes= {\n",
        "    \"codigo1\": {\n",
        "        \"notas\": [2.5, 5.0, 1.0, 4.5, 1.5],\n",
        "        \"promedio\": 0.0\n",
        "    },\n",
        "    \"codigo2\": {\n",
        "        \"notas\": [5.0, 2.5, 4.5, 2.0, 3.5],\n",
        "        \"promedio\": 0.0\n",
        "    },\n",
        "    \"codigo3\": {\n",
        "        \"notas\": [3.0, 3.5, 3.5, 5.0, 1.0],\n",
        "        \"promedio\": 0.0\n",
        "    }\n",
        "}\n",
        "def calcular_promedio(notas):\n",
        "    return sum(notas) / len(notas)\n",
        "for codigo, datos in estudiantes.items():\n",
        "    notas = datos[\"notas\"]\n",
        "    datos[\"promedio\"] = calcular_promedio(notas)\n",
        "for codigo, datos in estudiantes.items():\n",
        "    print(f\"Código: {codigo}, Promedio: {datos['promedio']:.2f}\")"
      ],
      "metadata": {
        "colab": {
          "base_uri": "https://localhost:8080/"
        },
        "id": "81cfo0KUkbQ7",
        "outputId": "052e30a5-10bd-48a9-b29b-9d0d750eec8b"
      },
      "execution_count": null,
      "outputs": [
        {
          "output_type": "stream",
          "name": "stdout",
          "text": [
            "Código: codigo1, Promedio: 2.90\n",
            "Código: codigo2, Promedio: 3.50\n",
            "Código: codigo3, Promedio: 3.20\n"
          ]
        }
      ]
    },
    {
      "cell_type": "markdown",
      "source": [
        "un diccionario que almacena n codigos de productos de una tienda, sus respectivos precios  y su % de descuento"
      ],
      "metadata": {
        "id": "u3NWswX9k4-i"
      }
    },
    {
      "cell_type": "code",
      "source": [
        "productos = {\n",
        "    \"P01\": {\n",
        "        \"precio\": 98.0,\n",
        "        \"descuento\": 15\n",
        "    },\n",
        "    \"P02\": {\n",
        "        \"precio\": 123.6,\n",
        "        \"descuento\": 10\n",
        "    },\n",
        "    \"P03\": {\n",
        "        \"precio\": 50.0,\n",
        "        \"descuento\": 5\n",
        "    }\n",
        "}\n",
        "def calcular_precio_con_descuento(precio, descuento):\n",
        "    return precio * (1 - descuento / 100)\n",
        "for codigo, datos in productos.items():\n",
        "    precio = datos[\"precio\"]\n",
        "    descuento = datos[\"descuento\"]\n",
        "    precio_con_descuento = calcular_precio_con_descuento(precio, descuento)\n",
        "    datos[\"precio_con_descuento\"] = round(precio_con_descuento, 2)\n",
        "for codigo, datos in productos.items():\n",
        "    print(f\"Código: {codigo}, Precio original: {datos['precio']}, Descuento: {datos['descuento']}%, Precio con descuento: {datos['precio_con_descuento']}\")"
      ],
      "metadata": {
        "colab": {
          "base_uri": "https://localhost:8080/"
        },
        "id": "avg_ltfqlYlX",
        "outputId": "a6016f84-1bfd-4829-b416-18b44dccb0ed"
      },
      "execution_count": null,
      "outputs": [
        {
          "output_type": "stream",
          "name": "stdout",
          "text": [
            "Código: P01, Precio original: 98.0, Descuento: 15%, Precio con descuento: 83.3\n",
            "Código: P02, Precio original: 123.6, Descuento: 10%, Precio con descuento: 111.24\n",
            "Código: P03, Precio original: 50.0, Descuento: 5%, Precio con descuento: 47.5\n"
          ]
        }
      ]
    },
    {
      "cell_type": "markdown",
      "source": [
        "Desarrolla un programa que valide si tres números pueden formar un triángulo y de qué tipo es."
      ],
      "metadata": {
        "id": "s8d7k4eMobyn"
      }
    },
    {
      "cell_type": "code",
      "source": [
        "def triangulo(lados):\n",
        "    a, b, c = lados[\"lado1\"], lados[\"lado2\"], lados[\"lado3\"]\n",
        "    return a + b > c and a + c > b and b + c > a\n",
        "def tipotriangulo(lados):\n",
        "    a, b, c = lados[\"lado1\"], lados[\"lado2\"], lados[\"lado3\"]\n",
        "    if a == b == c:\n",
        "        return \"Equilátero\"\n",
        "    elif a == b or a == c or b == c:\n",
        "        return \"Isósceles\"\n",
        "    else:\n",
        "        return \"Escaleno\"\n",
        "lados = {\n",
        "    \"lado1\": float(input(\"Introduce el primer lado: \")),\n",
        "    \"lado2\": float(input(\"Introduce el segundo lado: \")),\n",
        "    \"lado3\": float(input(\"Introduce el tercer lado: \"))\n",
        "}\n",
        "if triangulo(lados):\n",
        "    print(f\"Los lados {lados['lado1']}, {lados['lado2']}, {lados['lado3']} si pueden formar un triángulo.\")\n",
        "    print(f\"El triángulo es de tipo: {tipotriangulo(lados)}\")\n",
        "else:\n",
        "    print(f\"Los lados {lados['lado1']}, {lados['lado2']}, {lados['lado3']} No pueden formar un triángulo.\")"
      ],
      "metadata": {
        "colab": {
          "base_uri": "https://localhost:8080/"
        },
        "id": "_Vz6g7rynCJ5",
        "outputId": "8156fcfc-f1e5-4278-bae9-58c30af1eea4"
      },
      "execution_count": null,
      "outputs": [
        {
          "output_type": "stream",
          "name": "stdout",
          "text": [
            "Introduce el primer lado: 8\n",
            "Introduce el segundo lado: 3\n",
            "Introduce el tercer lado: 2\n",
            "Los lados 8.0, 3.0, 2.0 No pueden formar un triángulo.\n"
          ]
        }
      ]
    },
    {
      "cell_type": "markdown",
      "source": [
        "Crea un programa que muestre la tabla de multiplicar de un número hasta el 10."
      ],
      "metadata": {
        "id": "edaJf8YNpbs-"
      }
    },
    {
      "cell_type": "code",
      "source": [
        "def mostrar_tabla_multiplicar(numero):\n",
        "    tabla = {n: numero * n for n in range(1, 11)}\n",
        "    for n, resultado in tabla.items():\n",
        "        print(f\"{numero} x {n} = {resultado}\")\n",
        "numero= int(input(\"Introducir un número para ver la tabla de multiplicar: \"))\n",
        "mostrar_tabla_multiplicar(numero)"
      ],
      "metadata": {
        "colab": {
          "base_uri": "https://localhost:8080/"
        },
        "id": "UL6zLSAApjH3",
        "outputId": "09da8e07-672e-482e-eb51-b7aa23a60f66"
      },
      "execution_count": null,
      "outputs": [
        {
          "output_type": "stream",
          "name": "stdout",
          "text": [
            "Introducir un número para ver la tabla de multiplicar: 7\n",
            "7 x 1 = 7\n",
            "7 x 2 = 14\n",
            "7 x 3 = 21\n",
            "7 x 4 = 28\n",
            "7 x 5 = 35\n",
            "7 x 6 = 42\n",
            "7 x 7 = 49\n",
            "7 x 8 = 56\n",
            "7 x 9 = 63\n",
            "7 x 10 = 70\n"
          ]
        }
      ]
    },
    {
      "cell_type": "markdown",
      "source": [
        "Escribe un programa que calcule la suma de números naturales hasta n."
      ],
      "metadata": {
        "id": "yD-YVA1crgc2"
      }
    },
    {
      "cell_type": "code",
      "source": [
        "def suma_numeros_naturales(n):\n",
        "    numeros = {n: n for n in range(1, n+1)}\n",
        "    suma = sum(numeros.values())\n",
        "    return suma\n",
        "n = int(input(\"Introduce el valor de n para calcular la suma de los primeros n números naturales: \"))\n",
        "resultado = suma_numeros_naturales(n)\n",
        "print(f\"La suma de los primeros {n} números naturales es: {resultado}\")"
      ],
      "metadata": {
        "colab": {
          "base_uri": "https://localhost:8080/"
        },
        "id": "E_e2CeFvqkBW",
        "outputId": "e9e9b165-50a7-4789-d51f-d9d5ca8373e2"
      },
      "execution_count": null,
      "outputs": [
        {
          "output_type": "stream",
          "name": "stdout",
          "text": [
            "Introduce el valor de n para calcular la suma de los primeros n números naturales: 8\n",
            "La suma de los primeros 8 números naturales es: 36\n"
          ]
        }
      ]
    },
    {
      "cell_type": "code",
      "source": [
        "def calcular_factorial(n):\n",
        "    if n < 0:\n",
        "        return \"No existen factoriales negativos.\"\n",
        "    factoriales = {0: 1, 1: 1}\n",
        "    for i in range(2, n + 1):\n",
        "        factoriales[i] = factoriales[i - 1] * i\n",
        "    return factoriales[n]\n",
        "n = int(input(\"Introducir un número para calcular su factorial: \"))\n",
        "resultado = calcular_factorial(n)\n",
        "print(f\"El factorial de {n} es: {resultado}\")"
      ],
      "metadata": {
        "colab": {
          "base_uri": "https://localhost:8080/"
        },
        "id": "6MzTzOPsrqhR",
        "outputId": "40d65165-280f-4843-eaf1-d02b0cc675b5"
      },
      "execution_count": null,
      "outputs": [
        {
          "output_type": "stream",
          "name": "stdout",
          "text": [
            "Introducir un número para calcular su factorial: 9\n",
            "El factorial de 9 es: 362880\n"
          ]
        }
      ]
    },
    {
      "cell_type": "markdown",
      "source": [
        "Desarrolla un programa que muestre los números pares del 1 al 100."
      ],
      "metadata": {
        "id": "8KSu_yrUsE7U"
      }
    },
    {
      "cell_type": "code",
      "source": [
        "def mostrar_pares():\n",
        "    numeros = {i: i for i in range(1, 101)}\n",
        "    for numero, valor in numeros.items():\n",
        "        if numero % 2 == 0:\n",
        "            print(valor)\n",
        "mostrar_pares()"
      ],
      "metadata": {
        "colab": {
          "base_uri": "https://localhost:8080/"
        },
        "id": "XQ0f91kBsd4D",
        "outputId": "00329db4-8911-4360-aa6c-4fdd1e50d694"
      },
      "execution_count": 34,
      "outputs": [
        {
          "output_type": "stream",
          "name": "stdout",
          "text": [
            "2\n",
            "4\n",
            "6\n",
            "8\n",
            "10\n",
            "12\n",
            "14\n",
            "16\n",
            "18\n",
            "20\n",
            "22\n",
            "24\n",
            "26\n",
            "28\n",
            "30\n",
            "32\n",
            "34\n",
            "36\n",
            "38\n",
            "40\n",
            "42\n",
            "44\n",
            "46\n",
            "48\n",
            "50\n",
            "52\n",
            "54\n",
            "56\n",
            "58\n",
            "60\n",
            "62\n",
            "64\n",
            "66\n",
            "68\n",
            "70\n",
            "72\n",
            "74\n",
            "76\n",
            "78\n",
            "80\n",
            "82\n",
            "84\n",
            "86\n",
            "88\n",
            "90\n",
            "92\n",
            "94\n",
            "96\n",
            "98\n",
            "100\n"
          ]
        }
      ]
    },
    {
      "cell_type": "markdown",
      "source": [
        "Escribe un programa que determine si un número es primo."
      ],
      "metadata": {
        "id": "gARxTcZHud2y"
      }
    },
    {
      "cell_type": "code",
      "source": [
        "def es_primo(numero):\n",
        "    if numero <= 1:\n",
        "        return False\n",
        "    divisores = {i: numero % i == 0 for i in range(2, numero)}\n",
        "    for divisor, es_divisor in divisores.items():\n",
        "        if es_divisor:\n",
        "            return False\n",
        "    return True\n",
        "numero = int(input(\"Introduce un número para saber si es primo: \"))\n",
        "if es_primo(numero):\n",
        "    print(f\"El número {numero} es primo.\")\n",
        "else:\n",
        "    print(f\"El número {numero} no es primo.\")"
      ],
      "metadata": {
        "colab": {
          "base_uri": "https://localhost:8080/"
        },
        "id": "N2jrg1Yiue4x",
        "outputId": "b9348e1d-301c-4b93-cccc-10b0201852a4"
      },
      "execution_count": 36,
      "outputs": [
        {
          "output_type": "stream",
          "name": "stdout",
          "text": [
            "Introduce un número para saber si es primo: 9\n",
            "El número 9 no es primo.\n"
          ]
        }
      ]
    },
    {
      "cell_type": "markdown",
      "source": [
        "Desarrolla un programa que muestre el patrón de un triángulo con asteriscos."
      ],
      "metadata": {
        "id": "b403CIbOvMlx"
      }
    },
    {
      "cell_type": "code",
      "source": [
        "def mostrar_triangulo(filas):\n",
        "    triángulo = {i: '*' * i for i in range(1, filas + 1)}\n",
        "    for i in range(1, filas + 1):\n",
        "        print(triángulo[i])\n",
        "filas = int(input(\"Introduce el número de filas para el triángulo: \"))\n",
        "mostrar_triangulo(filas)"
      ],
      "metadata": {
        "colab": {
          "base_uri": "https://localhost:8080/"
        },
        "id": "_JbRmy8svD85",
        "outputId": "b26a7194-af6f-4371-a129-5b8fc9304e32"
      },
      "execution_count": 39,
      "outputs": [
        {
          "output_type": "stream",
          "name": "stdout",
          "text": [
            "Introduce el número de filas para el triángulo: 8\n",
            "*\n",
            "**\n",
            "***\n",
            "****\n",
            "*****\n",
            "******\n",
            "*******\n",
            "********\n"
          ]
        }
      ]
    },
    {
      "cell_type": "markdown",
      "source": [
        "Crea un programa que calcule la potencia de un número sin usar el operador **."
      ],
      "metadata": {
        "id": "D952Xgq3vOfR"
      }
    },
    {
      "cell_type": "code",
      "source": [
        "def calcular_potencia(base, exponente):\n",
        "    potencias = {0: 1}\n",
        "    for i in range(1, abs(exponente) + 1):\n",
        "        potencias[i] = potencias[i - 1] * base\n",
        "    if exponente < 0:\n",
        "        return 1 / potencias[abs(exponente)]\n",
        "    return potencias[abs(exponente)]\n",
        "base = int(input(\"Introduce la base: \"))\n",
        "exponente = int(input(\"Introduce el exponente: \"))\n",
        "resultado = calcular_potencia(base, exponente)\n",
        "print(f\"{base} elevado a {exponente} es: {resultado}\")"
      ],
      "metadata": {
        "colab": {
          "base_uri": "https://localhost:8080/"
        },
        "id": "M0lOBxagvkPJ",
        "outputId": "e9d2defb-f43c-44da-926c-0e33a61959e9"
      },
      "execution_count": 41,
      "outputs": [
        {
          "output_type": "stream",
          "name": "stdout",
          "text": [
            "Introduce la base: 3\n",
            "Introduce el exponente: 2\n",
            "3 elevado a 2 es: 9\n"
          ]
        }
      ]
    }
  ]
}
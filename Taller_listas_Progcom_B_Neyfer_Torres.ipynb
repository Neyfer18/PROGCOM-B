{
  "nbformat": 4,
  "nbformat_minor": 0,
  "metadata": {
    "colab": {
      "provenance": []
    },
    "kernelspec": {
      "name": "python3",
      "display_name": "Python 3"
    },
    "language_info": {
      "name": "python"
    }
  },
  "cells": [
    {
      "cell_type": "markdown",
      "source": [
        "Generar las siguientes listas por comprensión:\n",
        "\n",
        "Todos los números divisibles por 6 del 1 al 60"
      ],
      "metadata": {
        "id": "vfhG3F6EHX3m"
      }
    },
    {
      "cell_type": "code",
      "execution_count": 1,
      "metadata": {
        "colab": {
          "base_uri": "https://localhost:8080/"
        },
        "id": "8BddXoWpHHcA",
        "outputId": "b7e0e7cf-6cde-4d75-eb51-7ab4762a029c"
      },
      "outputs": [
        {
          "output_type": "stream",
          "name": "stdout",
          "text": [
            "[6, 12, 18, 24, 30, 36, 42, 48, 54, 60]\n"
          ]
        }
      ],
      "source": [
        "numeros = [n for n in range(1, 61) if n % 6 == 0]\n",
        "print(numeros)"
      ]
    },
    {
      "cell_type": "markdown",
      "source": [
        "Todos los nombres que empiecen por \"A\" de una lista de nombres"
      ],
      "metadata": {
        "id": "t2UZQKvxH9Qy"
      }
    },
    {
      "cell_type": "code",
      "source": [
        "nombres = [\"Anacleta\", \"Carlos\", \"Anastasia\", \"Neyfer\", \"Alberto\", \"Daniel\", \"Amelia\"]\n",
        "nombres_con_A = [nombre for nombre in nombres if nombre[0] == \"A\"]\n",
        "print(nombres_con_A)"
      ],
      "metadata": {
        "colab": {
          "base_uri": "https://localhost:8080/"
        },
        "id": "AVgYWDh4HaUZ",
        "outputId": "d1700115-a158-46b7-91ab-467be03ea491"
      },
      "execution_count": 2,
      "outputs": [
        {
          "output_type": "stream",
          "name": "stdout",
          "text": [
            "['Anacleta', 'Anastasia', 'Alberto', 'Amelia']\n"
          ]
        }
      ]
    },
    {
      "cell_type": "markdown",
      "source": [
        "Todos los números primos entre 0 y 70"
      ],
      "metadata": {
        "id": "BmYxaLp3IOoD"
      }
    },
    {
      "cell_type": "code",
      "source": [
        "def es_primo(n):\n",
        "    if n < 2:\n",
        "        return False\n",
        "    for i in range(2, int(n ** 0.5) + 1):\n",
        "        if n % i == 0:\n",
        "            return False\n",
        "    return True\n",
        "primos = [n for n in range(0, 71) if es_primo(n)]\n",
        "print(primos)"
      ],
      "metadata": {
        "colab": {
          "base_uri": "https://localhost:8080/"
        },
        "id": "B8kAFfXdIIAv",
        "outputId": "f3dd2f3e-b2ad-41cd-adf3-410e62097dfd"
      },
      "execution_count": 3,
      "outputs": [
        {
          "output_type": "stream",
          "name": "stdout",
          "text": [
            "[2, 3, 5, 7, 11, 13, 17, 19, 23, 29, 31, 37, 41, 43, 47, 53, 59, 61, 67]\n"
          ]
        }
      ]
    },
    {
      "cell_type": "markdown",
      "source": [
        "Resolver los ejercicios de la prueba diagnóstica (puntos del 15 al 25) empleando listas. Intente emplear las diferentes funciones vistas, y generar las listas por comprensión."
      ],
      "metadata": {
        "id": "kkXDCA98Ntjj"
      }
    },
    {
      "cell_type": "markdown",
      "source": [
        "Desarrolla un programa que valide si tres números pueden formar un triángulo y de qué tipo es."
      ],
      "metadata": {
        "id": "zwelVkWiI949"
      }
    },
    {
      "cell_type": "code",
      "source": [
        "lados = [float(input(f\"Ingrese el lado {i+1}: \")) for i in range(3)]\n",
        "es_triangulo = all(lados[i] + lados[j] > lados[k] for i, j, k in [(0, 1, 2), (0, 2, 1), (1, 2, 0)])\n",
        "tipos = [\"No es un triángulo\", \"Triángulo escaleno\", \"Triángulo isósceles\", \"Triángulo equilátero\"]\n",
        "tipo = tipos[len(set(lados))] if es_triangulo else tipos[0]\n",
        "print(\"Resultado:\", tipo)"
      ],
      "metadata": {
        "colab": {
          "base_uri": "https://localhost:8080/"
        },
        "id": "92Qt4b1HJOGk",
        "outputId": "9bb5f074-45e9-4609-dc0a-1c60a141154e"
      },
      "execution_count": 5,
      "outputs": [
        {
          "output_type": "stream",
          "name": "stdout",
          "text": [
            "Ingrese el lado 1: 2\n",
            "Ingrese el lado 2: 4\n",
            "Ingrese el lado 3: 5\n",
            "Resultado: Triángulo equilátero\n"
          ]
        }
      ]
    },
    {
      "cell_type": "markdown",
      "source": [
        "Crea un programa que muestre la tabla de multiplicar de un número hasta el 10."
      ],
      "metadata": {
        "id": "TdNsjwHNJ80G"
      }
    },
    {
      "cell_type": "code",
      "source": [
        "num = int(input(\"Ingrese un número: \"))\n",
        "tabla = [f\"{num} x {i} = {num * i}\" for i in range(1, 11)]\n",
        "for linea in tabla:\n",
        "    print(linea)"
      ],
      "metadata": {
        "colab": {
          "base_uri": "https://localhost:8080/"
        },
        "id": "7pKMqb8GJ5ao",
        "outputId": "110072f7-4652-4763-840e-6e9b84009a06"
      },
      "execution_count": 6,
      "outputs": [
        {
          "output_type": "stream",
          "name": "stdout",
          "text": [
            "Ingrese un número: 5\n",
            "5 x 1 = 5\n",
            "5 x 2 = 10\n",
            "5 x 3 = 15\n",
            "5 x 4 = 20\n",
            "5 x 5 = 25\n",
            "5 x 6 = 30\n",
            "5 x 7 = 35\n",
            "5 x 8 = 40\n",
            "5 x 9 = 45\n",
            "5 x 10 = 50\n"
          ]
        }
      ]
    },
    {
      "cell_type": "markdown",
      "source": [
        "Escribe un programa que calcule la suma de números naturales hasta n."
      ],
      "metadata": {
        "id": "6S6jTd3iKBVX"
      }
    },
    {
      "cell_type": "code",
      "source": [
        "n = int(input(\"Ingrese un número natural: \"))\n",
        "suma_naturales = sum([i for i in range(1, n + 1)])\n",
        "print(f\"La suma de los números naturales hasta {n} es: {suma_naturales}\")"
      ],
      "metadata": {
        "colab": {
          "base_uri": "https://localhost:8080/"
        },
        "id": "Q9haZ-OxJ_ay",
        "outputId": "16a3274c-eacd-4e75-fb1a-571260808806"
      },
      "execution_count": 7,
      "outputs": [
        {
          "output_type": "stream",
          "name": "stdout",
          "text": [
            "Ingrese un número natural: 5\n",
            "La suma de los números naturales hasta 5 es: 15\n"
          ]
        }
      ]
    },
    {
      "cell_type": "markdown",
      "source": [
        "Desarrolla un programa que calcule el factorial de un número. Recuerda que el factorial de 0 es 1 y no existen factoriales negativos."
      ],
      "metadata": {
        "id": "LWGYSSKfKN6R"
      }
    },
    {
      "cell_type": "code",
      "source": [
        "n = int(input(\"Ingrese un número entero no negativo: \"))\n",
        "if n < 0:\n",
        "    print(\"No existen factoriales de números negativos.\")\n",
        "else:\n",
        "    from math import prod\n",
        "    factorial = prod([i for i in range(1, n + 1)]) if n > 0 else 1\n",
        "    print(f\"El factorial de {n} es: {factorial}\")"
      ],
      "metadata": {
        "colab": {
          "base_uri": "https://localhost:8080/"
        },
        "id": "f6Rk3GuWKYDu",
        "outputId": "956e3064-b623-4372-b2d1-70113a505863"
      },
      "execution_count": 8,
      "outputs": [
        {
          "output_type": "stream",
          "name": "stdout",
          "text": [
            "Ingrese un número entero no negativo: 8\n",
            "El factorial de 8 es: 40320\n"
          ]
        }
      ]
    },
    {
      "cell_type": "markdown",
      "source": [
        "Crea un programa que muestre los primeros n números de la serie Fibonacci."
      ],
      "metadata": {
        "id": "0JOSb8vAKl5x"
      }
    },
    {
      "cell_type": "code",
      "source": [
        "n = int(input(\"Ingrese la cantidad de números de la serie Fibonacci: \"))\n",
        "fibonacci = [0, 1] + [sum(fibonacci[-2:]) for _ in range(n-2)] if n > 1 else [0] if n == 1 else []\n",
        "print(f\"Los primeros {n} números de la serie Fibonacci son:\", fibonacci)"
      ],
      "metadata": {
        "id": "nReaQxYkKmnN"
      },
      "execution_count": null,
      "outputs": []
    },
    {
      "cell_type": "markdown",
      "source": [
        "Escribe un programa que adivine entre un conjunto de diez colores definidos por el usuario, con un máximo de 10 intentos."
      ],
      "metadata": {
        "id": "8ppIevWnK9YH"
      }
    },
    {
      "cell_type": "code",
      "source": [
        "import random\n",
        "colores = [input(f\"Ingrese el color {i+1}: \").strip().lower() for i in range(10)]\n",
        "color_secreto = random.choice(colores)\n",
        "for intento in range(1, 11):\n",
        "    adivinanza = input(f\"Intento {intento}/10 - Adivina el color: \").strip().lower()\n",
        "    if adivinanza == color_secreto:\n",
        "        print(f\"¡Felicidades! Adivinaste el color '{color_secreto}' en {intento} intentos.\")\n",
        "        break\n",
        "    else:\n",
        "        print(\"Incorrecto. Intenta de nuevo.\")\n",
        "else:\n",
        "    print(f\"Lo siento, perdiste  tus 10 intentos. El color correcto era '{color_secreto}'.\")"
      ],
      "metadata": {
        "id": "KLA0I4A-K655"
      },
      "execution_count": null,
      "outputs": []
    },
    {
      "cell_type": "markdown",
      "source": [
        "Desarrolla un programa que muestre los números pares del 1 al 100."
      ],
      "metadata": {
        "id": "ULPuSLiRMHi6"
      }
    },
    {
      "cell_type": "code",
      "source": [
        "pares = [i for i in range(2, 101, 2)]\n",
        "print(\"Números pares del 1 al 100:\", pares)"
      ],
      "metadata": {
        "id": "WN2Ps16HMCUS"
      },
      "execution_count": null,
      "outputs": []
    },
    {
      "cell_type": "markdown",
      "source": [
        "Crea un programa que calcule la suma de los dígitos de un número."
      ],
      "metadata": {
        "id": "ZoNH_021Mcwd"
      }
    },
    {
      "cell_type": "code",
      "source": [
        "num = int(input(\"Ingrese un número: \"))\n",
        "suma_digitos = sum([int(d) for d in str(abs(num))])\n",
        "print(f\"La suma de los dígitos de {num} es: {suma_digitos}\")"
      ],
      "metadata": {
        "id": "lsWRXT4CMhDf"
      },
      "execution_count": null,
      "outputs": []
    },
    {
      "cell_type": "markdown",
      "source": [
        "Escribe un programa que determine si un número es primo."
      ],
      "metadata": {
        "id": "Rm71juxlMnu_"
      }
    },
    {
      "cell_type": "code",
      "source": [
        "num = int(input(\"Ingrese un número: \"))\n",
        "es_primo = num > 1 and all(num % i != 0 for i in range(2, int(num ** 0.5) + 1))\n",
        "print(f\"El número {num} {'es primo' if es_primo else 'no es primo'}.\")"
      ],
      "metadata": {
        "id": "J-RTbcgmMv69"
      },
      "execution_count": null,
      "outputs": []
    },
    {
      "cell_type": "markdown",
      "source": [
        "Desarrolla un programa que muestre el patrón de un triángulo con asteriscos."
      ],
      "metadata": {
        "id": "9OEQYnH6M7Ad"
      }
    },
    {
      "cell_type": "code",
      "source": [
        "n = int(input(\"Ingrese la altura del triángulo: \"))\n",
        "[print(\"*\" * i) for i in range(1, n + 1)]"
      ],
      "metadata": {
        "id": "Tt-LPkuNM70z"
      },
      "execution_count": null,
      "outputs": []
    },
    {
      "cell_type": "markdown",
      "source": [
        "Crea un programa que calcule la potencia de un número sin usar el operador **."
      ],
      "metadata": {
        "id": "1kECVL9ONQdi"
      }
    },
    {
      "cell_type": "code",
      "source": [
        "base = int(input(\"Ingrese la base: \"))\n",
        "exponente = int(input(\"Ingrese el exponente: \"))\n",
        "from math import prod\n",
        "potencia = prod([base for _ in range(abs(exponente))])\n",
        "potencia = 1 / potencia if exponente < 0 else potencia\n",
        "print(f\"{base}^{exponente} = {potencia}\")"
      ],
      "metadata": {
        "id": "XeOweVzDNFyd"
      },
      "execution_count": null,
      "outputs": []
    }
  ]
}
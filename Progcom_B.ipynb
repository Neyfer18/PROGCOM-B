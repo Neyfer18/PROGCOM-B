{
  "nbformat": 4,
  "nbformat_minor": 0,
  "metadata": {
    "colab": {
      "provenance": []
    },
    "kernelspec": {
      "name": "python3",
      "display_name": "Python 3"
    },
    "language_info": {
      "name": "python"
    }
  },
  "cells": [
    {
      "cell_type": "markdown",
      "source": [
        "Escribe un programa que calcule el índice de masa corporal (IMC) y determine la categoría (bajo peso, normal, sobrepeso, obesidad). Al final, el programa debe imprimir: el nombre del usuario, su categoría y una breve descripción de lo que debe hacer de acuerdo a su categoría."
      ],
      "metadata": {
        "id": "TTyLI2OvcHNc"
      }
    },
    {
      "cell_type": "code",
      "source": [
        "for i in range(3):\n",
        "    print(f\"\\nPersona {i+1}:\")\n",
        "    nombre = input(\"Ingrese su nombre: \")\n",
        "    peso = float(input(\"Ingrese su peso en kg: \"))\n",
        "    altura = float(input(\"Ingrese su altura en metros: \"))\n",
        "    imc = peso / (altura ** 2)\n",
        "    if imc < 18.5:\n",
        "        categoria = \"Bajo peso\"\n",
        "        descripcion = \"Debes aumentar tu ingesta calórica con una dieta balanceada y consultar a un nutricionista.\"\n",
        "    elif 18.5 <= imc < 24.9:\n",
        "        categoria = \"Peso normal\"\n",
        "        descripcion = \"¡Felicidades! Mantén una dieta equilibrada y realiza actividad física regularmente.\"\n",
        "    elif 25 <= imc < 29.9:\n",
        "        categoria = \"Sobrepeso\"\n",
        "        descripcion = \"Intenta mejorar tu alimentación y aumentar la actividad física para evitar riesgos de salud.\"\n",
        "    else:\n",
        "        categoria = \"Obesidad\"\n",
        "        descripcion = \"Es recomendable acudir a un médico o nutricionista para mejorar tu salud y prevenir enfermedades.\"\n",
        "    print(\"\\n--- Resultado ---\")\n",
        "    print(f\"Nombre: {nombre}\")\n",
        "    print(f\"IMC: {imc:.2f}\")\n",
        "    print(f\"Categoría: {categoria}\")\n",
        "    print(f\"Recomendación: {descripcion}\")"
      ],
      "metadata": {
        "id": "CmuwMEwcbwxL"
      },
      "execution_count": null,
      "outputs": []
    },
    {
      "cell_type": "markdown",
      "source": [
        "Desarrolla un programa que simule una calculadora simple (+, -, *, /) con dos números."
      ],
      "metadata": {
        "id": "wEB-ONohdDca"
      }
    },
    {
      "cell_type": "code",
      "source": [
        "for i in range(3):\n",
        "    print(\"\\nCalculadora Simple\")\n",
        "    num1 = float(input(\"Ingrese el primer número: \"))\n",
        "    num2 = float(input(\"Ingrese el segundo número: \"))\n",
        "    operacion = input(\"Ingrese la operación (+, -, *, /): \")\n",
        "    if operacion == \"+\":\n",
        "        resultado = num1 + num2\n",
        "    elif operacion == \"-\":\n",
        "        resultado = num1 - num2\n",
        "    elif operacion == \"*\":\n",
        "        resultado = num1 * num2\n",
        "    elif operacion == \"/\":\n",
        "        if num2 != 0:\n",
        "            resultado = num1 / num2\n",
        "        else:\n",
        "            resultado = \"Error: División por cero no permitida\"\n",
        "    else:\n",
        "        resultado = \"Operación no válida\"\n",
        "    print(f\"Resultado: {resultado}\")"
      ],
      "metadata": {
        "id": "raGRBcvScng5"
      },
      "execution_count": null,
      "outputs": []
    },
    {
      "cell_type": "code",
      "source": [
        "salir = \"no\"\n",
        "while salir.lower() != \"si\":\n",
        "    print(\"\\nCalculadora Simple\")\n",
        "    num1 = float(input(\"Ingrese el primer número: \"))\n",
        "    num2 = float(input(\"Ingrese el segundo número: \"))\n",
        "    operacion = input(\"Ingrese la operación (+, -, *, /): \")\n",
        "    if operacion == \"+\":\n",
        "        resultado = num1 + num2\n",
        "    elif operacion == \"-\":\n",
        "        resultado = num1 - num2\n",
        "    elif operacion == \"*\":\n",
        "        resultado = num1 * num2\n",
        "    elif operacion == \"/\":\n",
        "        if num2 != 0:\n",
        "            resultado = num1 / num2\n",
        "        else:\n",
        "            resultado = \"Error: División por cero no permitida\"\n",
        "    else:\n",
        "        resultado = \"Operación no válida\"\n",
        "    print(f\"Resultado: {resultado}\")\n",
        "    salir = input(\"¿Desea salir? (Escriba 'si' para terminar, cualquier  cosa para seguir): \")"
      ],
      "metadata": {
        "id": "6VleV1VzcruP"
      },
      "execution_count": null,
      "outputs": []
    },
    {
      "cell_type": "markdown",
      "source": [
        "Crea un programa que determine la calificación en letras (A, B, C, D, F) según una nota numérica (0-100)."
      ],
      "metadata": {
        "id": "i6SQMNChouVn"
      }
    },
    {
      "cell_type": "code",
      "execution_count": null,
      "metadata": {
        "colab": {
          "base_uri": "https://localhost:8080/"
        },
        "id": "tg1EvK8cnoxD",
        "outputId": "a6ab4c40-3c02-4319-cb79-a8a423e4befa"
      },
      "outputs": [
        {
          "output_type": "stream",
          "name": "stdout",
          "text": [
            "Introduce tu nota (0-100): 4\n",
            "Tu calificación es: F\n"
          ]
        }
      ],
      "source": [
        "nota = int(input(\"Introduce tu nota (0-100): \"))\n",
        "for i in range(1):\n",
        "    if 90 <= nota <= 100:\n",
        "        calificacion = 'A'\n",
        "    elif 80 <= nota < 90:\n",
        "        calificacion = 'B'\n",
        "    elif 70 <= nota < 80:\n",
        "        calificacion = 'C'\n",
        "    elif 60 <= nota < 70:\n",
        "        calificacion = 'D'\n",
        "    elif 0 <= nota < 60:\n",
        "        calificacion = 'F'\n",
        "    else:\n",
        "        calificacion = 'Nota inválida'\n",
        "print(f\"Tu calificación es: {calificacion}\")"
      ]
    },
    {
      "cell_type": "code",
      "source": [
        "nota = int(input(\"Introduce tu nota (0-100): \"))\n",
        "while nota < 0 or nota > 100:\n",
        "    print(\"La nota ingresada no es válida. Debe estar entre 0 y 100.\")\n",
        "    nota = int(input(\"Introduce tu nota (0-100): \"))\n",
        "if 90 <= nota <= 100:\n",
        "    calificacion = 'A'\n",
        "elif 80 <= nota < 90:\n",
        "    calificacion = 'B'\n",
        "elif 70 <= nota < 80:\n",
        "    calificacion = 'C'\n",
        "elif 60 <= nota < 70:\n",
        "    calificacion = 'D'\n",
        "else:\n",
        "    calificacion = 'F'\n",
        "print(f\"Tu calificación es: {calificacion}\")"
      ],
      "metadata": {
        "colab": {
          "base_uri": "https://localhost:8080/"
        },
        "id": "DWE-QOCYoODc",
        "outputId": "4ecc3c20-57f8-43d9-9c3c-af3e7eb9bb59"
      },
      "execution_count": null,
      "outputs": [
        {
          "output_type": "stream",
          "name": "stdout",
          "text": [
            "Introduce tu nota (0-100): 5\n",
            "Tu calificación es: F\n"
          ]
        }
      ]
    },
    {
      "cell_type": "markdown",
      "source": [
        "Escribe un programa que determine el día de la semana según un número (1-7)"
      ],
      "metadata": {
        "id": "jqEopIYFo1_j"
      }
    },
    {
      "cell_type": "code",
      "source": [
        "numero = int(input(\"Introduce un número (1-7) para determinar el día de la semana: \"))\n",
        "for i in range(1):\n",
        "    if numero == 1:\n",
        "        dia = \"Lunes\"\n",
        "    elif numero == 2:\n",
        "        dia = \"Martes\"\n",
        "    elif numero == 3:\n",
        "        dia = \"Miércoles\"\n",
        "    elif numero == 4:\n",
        "        dia = \"Jueves\"\n",
        "    elif numero == 5:\n",
        "        dia = \"Viernes\"\n",
        "    elif numero == 6:\n",
        "        dia = \"Sábado\"\n",
        "    elif numero == 7:\n",
        "        dia = \"Domingo\"\n",
        "    else:\n",
        "        dia = \"Número inválido\"\n",
        "        break\n",
        "print(f\"El día de la semana es: {dia}\")\n"
      ],
      "metadata": {
        "colab": {
          "base_uri": "https://localhost:8080/"
        },
        "id": "MbXcBkZroeDj",
        "outputId": "6bee8d91-6932-4998-f619-9152cf72a8ff"
      },
      "execution_count": null,
      "outputs": [
        {
          "output_type": "stream",
          "name": "stdout",
          "text": [
            "Introduce un número (1-7) para determinar el día de la semana: 5\n",
            "El día de la semana es: Viernes\n"
          ]
        }
      ]
    },
    {
      "cell_type": "code",
      "source": [
        "numero = int(input(\"Introduce un número (1-7) para determinar el día de la semana: \"))\n",
        "while numero < 1 or numero > 7:\n",
        "    print(\"Número inválido. Debe ser un número entre 1 y 7.\")\n",
        "    numero = int(input(\"Introduce un número (1-7) para determinar el día de la semana: \"))\n",
        "if numero == 1:\n",
        "    dia = \"Lunes\"\n",
        "elif numero == 2:\n",
        "    dia = \"Martes\"\n",
        "elif numero == 3:\n",
        "    dia = \"Miércoles\"\n",
        "elif numero == 4:\n",
        "    dia = \"Jueves\"\n",
        "elif numero == 5:\n",
        "    dia = \"Viernes\"\n",
        "elif numero == 6:\n",
        "    dia = \"Sábado\"\n",
        "else:\n",
        "    dia = \"Domingo\"\n",
        "print(f\"El día de la semana es: {dia}\")"
      ],
      "metadata": {
        "colab": {
          "base_uri": "https://localhost:8080/"
        },
        "id": "utvioB9EolmL",
        "outputId": "b327bdc3-472b-4b33-cf4b-75f39e381f2a"
      },
      "execution_count": null,
      "outputs": [
        {
          "output_type": "stream",
          "name": "stdout",
          "text": [
            "Introduce un número (1-7) para determinar el día de la semana: 5\n",
            "El día de la semana es: Viernes\n"
          ]
        }
      ]
    },
    {
      "cell_type": "markdown",
      "source": [
        "Desarrolla un programa que valide si tres números pueden formar un triángulo y de qué tipo es."
      ],
      "metadata": {
        "id": "tZpTDtRrpLyr"
      }
    },
    {
      "cell_type": "code",
      "source": [
        "a = int(input(\"Introduce el primer lado del triángulo: \"))\n",
        "b = int(input(\"Introduce el segundo lado del triángulo: \"))\n",
        "c = int(input(\"Introduce el tercer lado del triángulo: \"))\n",
        "for i in range(1):\n",
        "    if a + b > c and a + c > b and b + c > a:\n",
        "        if a == b == c:\n",
        "            tipo = \"Equilátero\"\n",
        "        elif a == b or a == c or b == c:\n",
        "            tipo = \"Isósceles\"\n",
        "        else:\n",
        "            tipo = \"Escaleno\"\n",
        "    else:\n",
        "        tipo = \"No puede formar un triángulo\"\n",
        "        break\n",
        "print(f\"El triángulo es: {tipo}\")"
      ],
      "metadata": {
        "colab": {
          "base_uri": "https://localhost:8080/"
        },
        "id": "VJUp3DiVo3r-",
        "outputId": "4aab9e3f-e48e-4d0d-9332-6f83f0a991c8"
      },
      "execution_count": null,
      "outputs": [
        {
          "output_type": "stream",
          "name": "stdout",
          "text": [
            "Introduce el primer lado del triángulo: 3\n",
            "Introduce el segundo lado del triángulo: 5\n",
            "Introduce el tercer lado del triángulo: 3\n",
            "El triángulo es: Isósceles\n"
          ]
        }
      ]
    },
    {
      "cell_type": "code",
      "source": [
        "a = int(input(\"Introduce el primer lado del triángulo: \"))\n",
        "b = int(input(\"Introduce el segundo lado del triángulo: \"))\n",
        "c = int(input(\"Introduce el tercer lado del triángulo: \"))\n",
        "while not (a + b > c and a + c > b and b + c > a):\n",
        "    print(\"Los números no pueden formar un triángulo.\")\n",
        "    a = int(input(\"Introduce el primer lado del triángulo: \"))\n",
        "    b = int(input(\"Introduce el segundo lado del triángulo: \"))\n",
        "    c = int(input(\"Introduce el tercer lado del triángulo: \"))\n",
        "if a == b == c:\n",
        "    tipo = \"Equilátero\"\n",
        "elif a == b or a == c or b == c:\n",
        "    tipo = \"Isósceles\"\n",
        "else:\n",
        "    tipo = \"Escaleno\"\n",
        "print(f\"El triángulo es: {tipo}\")"
      ],
      "metadata": {
        "colab": {
          "base_uri": "https://localhost:8080/"
        },
        "id": "XRBjb0q1pOmU",
        "outputId": "ea4a298b-8c15-4cfe-dc92-4bb6a3271f59"
      },
      "execution_count": null,
      "outputs": [
        {
          "output_type": "stream",
          "name": "stdout",
          "text": [
            "Introduce el primer lado del triángulo: 3\n",
            "Introduce el segundo lado del triángulo: 5\n",
            "Introduce el tercer lado del triángulo: 5\n",
            "El triángulo es: Isósceles\n"
          ]
        }
      ]
    },
    {
      "cell_type": "markdown",
      "source": [
        "Crea un programa que muestre la tabla de multiplicar de un número hasta el 10."
      ],
      "metadata": {
        "id": "t0ASHMbnpilr"
      }
    },
    {
      "cell_type": "code",
      "source": [
        "numero = int(input(\"Introduce un número para ver su tabla de multiplicar: \"))\n",
        "for i in range(1, 11):\n",
        "    print(f\"{numero} x {i} = {numero * i}\")"
      ],
      "metadata": {
        "colab": {
          "base_uri": "https://localhost:8080/"
        },
        "id": "zAPQOdCOpYMK",
        "outputId": "71b222a9-04ed-4503-ae25-383b3b831de1"
      },
      "execution_count": null,
      "outputs": [
        {
          "output_type": "stream",
          "name": "stdout",
          "text": [
            "Introduce un número para ver su tabla de multiplicar: 5\n",
            "5 x 1 = 5\n",
            "5 x 2 = 10\n",
            "5 x 3 = 15\n",
            "5 x 4 = 20\n",
            "5 x 5 = 25\n",
            "5 x 6 = 30\n",
            "5 x 7 = 35\n",
            "5 x 8 = 40\n",
            "5 x 9 = 45\n",
            "5 x 10 = 50\n"
          ]
        }
      ]
    },
    {
      "cell_type": "code",
      "source": [
        "numero = int(input(\"Introduce un número para ver su tabla de multiplicar: \"))\n",
        "i = 1\n",
        "while i <= 10:\n",
        "    print(f\"{numero} x {i} = {numero * i}\")\n",
        "    i += 1"
      ],
      "metadata": {
        "colab": {
          "base_uri": "https://localhost:8080/"
        },
        "id": "-GtgNZljpkx0",
        "outputId": "b3bb5354-b8e4-4d01-a4ac-df9992b1cc90"
      },
      "execution_count": null,
      "outputs": [
        {
          "output_type": "stream",
          "name": "stdout",
          "text": [
            "Introduce un número para ver su tabla de multiplicar: 5\n",
            "5 x 1 = 5\n",
            "5 x 2 = 10\n",
            "5 x 3 = 15\n",
            "5 x 4 = 20\n",
            "5 x 5 = 25\n",
            "5 x 6 = 30\n",
            "5 x 7 = 35\n",
            "5 x 8 = 40\n",
            "5 x 9 = 45\n",
            "5 x 10 = 50\n"
          ]
        }
      ]
    },
    {
      "cell_type": "markdown",
      "source": [
        "Escribe un programa que calcule la suma de números naturales hasta n."
      ],
      "metadata": {
        "id": "pZLT89ucqPgL"
      }
    },
    {
      "cell_type": "code",
      "source": [
        "n = int(input(\"Introduce un número natural (n) para calcular la suma hasta ese número: \"))\n",
        "suma = 0\n",
        "for i in range(1, n+1):\n",
        "    suma += i\n",
        "print(f\"La suma de los números naturales hasta {n} es: {suma}\")"
      ],
      "metadata": {
        "colab": {
          "base_uri": "https://localhost:8080/"
        },
        "id": "sjN4bUy3qCjM",
        "outputId": "1fd74ea5-aaf6-44c7-dbad-39a84f7afd5d"
      },
      "execution_count": null,
      "outputs": [
        {
          "output_type": "stream",
          "name": "stdout",
          "text": [
            "Introduce un número natural (n) para calcular la suma hasta ese número: 6\n",
            "La suma de los números naturales hasta 6 es: 21\n"
          ]
        }
      ]
    },
    {
      "cell_type": "code",
      "source": [
        "n = int(input(\"Introduce un número natural (n) para calcular la suma hasta ese número: \"))\n",
        "suma = 0\n",
        "i = 1\n",
        "while i <= n:\n",
        "    suma += i\n",
        "    i += 1\n",
        "print(f\"La suma de los números naturales hasta {n} es: {suma}\")"
      ],
      "metadata": {
        "colab": {
          "base_uri": "https://localhost:8080/"
        },
        "id": "4USo11w1qILC",
        "outputId": "588ca0c9-72a0-4371-e37c-b44ec613a05c"
      },
      "execution_count": null,
      "outputs": [
        {
          "output_type": "stream",
          "name": "stdout",
          "text": [
            "Introduce un número natural (n) para calcular la suma hasta ese número: 6\n",
            "La suma de los números naturales hasta 6 es: 21\n"
          ]
        }
      ]
    },
    {
      "cell_type": "markdown",
      "source": [
        "Desarrolla un programa que calcule el factorial de un número. Recuerda que el factorial de 0 es 1 y no existen factoriales negativos."
      ],
      "metadata": {
        "id": "CgDrK-ybXWeP"
      }
    },
    {
      "cell_type": "code",
      "source": [
        "num = int(input(\"Ingrese un número: \"))\n",
        "if num < 0:\n",
        "    print(\"no existe el factorial de un número negativo.\")\n",
        "else:\n",
        "    factorial = 1\n",
        "    for p in range(1, num + 1):\n",
        "        factorial *= p\n",
        "    print(f\"El factorial de {num} es {factorial}\")"
      ],
      "metadata": {
        "colab": {
          "base_uri": "https://localhost:8080/"
        },
        "id": "YIvbgEtgXPzR",
        "outputId": "da7d431c-faa0-43c8-efb5-7aaa0f5b3273"
      },
      "execution_count": 3,
      "outputs": [
        {
          "output_type": "stream",
          "name": "stdout",
          "text": [
            "Ingrese un número: 8\n",
            "El factorial de 8 es 40320\n"
          ]
        }
      ]
    },
    {
      "cell_type": "code",
      "source": [
        "num = int(input(\"Ingrese un número: \"))\n",
        "if num < 0:\n",
        "    print(\"No existe el factorial de un número negativo.\")\n",
        "else:\n",
        "    factorial = 1\n",
        "    p = 1\n",
        "    while p <= num:\n",
        "        factorial *= p\n",
        "        p += 1\n",
        "    print(f\"El factorial de {num} es {factorial}\")"
      ],
      "metadata": {
        "colab": {
          "base_uri": "https://localhost:8080/"
        },
        "id": "oO_VwRatXX56",
        "outputId": "61449d68-8371-46b4-ea56-7729bd5c9971"
      },
      "execution_count": 1,
      "outputs": [
        {
          "output_type": "stream",
          "name": "stdout",
          "text": [
            "Ingrese un número: 8\n",
            "El factorial de 8 es 40320\n"
          ]
        }
      ]
    },
    {
      "cell_type": "markdown",
      "source": [
        "Crea un programa que muestre los primeros n números de la serie Fibonacci"
      ],
      "metadata": {
        "id": "Nm0tRsRtZh_m"
      }
    },
    {
      "cell_type": "code",
      "source": [
        "n = int(input(\"Ingrese la cantidad de términos de fibonacci: \"))\n",
        "if n <= 0:\n",
        "    print(\"Ingrese un número mayor que 0.\")\n",
        "else:\n",
        "    a, b = 0, 1\n",
        "    print(\"Serie de fibonacci:\")\n",
        "    for _ in range(n):\n",
        "        print(a, end=\" \")\n",
        "        a, b = b, a + b"
      ],
      "metadata": {
        "colab": {
          "base_uri": "https://localhost:8080/"
        },
        "id": "V1ko6N2xYjIU",
        "outputId": "bf8a261b-aa88-4919-ef37-71f0c0287110"
      },
      "execution_count": 4,
      "outputs": [
        {
          "output_type": "stream",
          "name": "stdout",
          "text": [
            "Ingrese la cantidad de términos de fibonacci: 66\n",
            "Serie de fibonacci:\n",
            "0 1 1 2 3 5 8 13 21 34 55 89 144 233 377 610 987 1597 2584 4181 6765 10946 17711 28657 46368 75025 121393 196418 317811 514229 832040 1346269 2178309 3524578 5702887 9227465 14930352 24157817 39088169 63245986 102334155 165580141 267914296 433494437 701408733 1134903170 1836311903 2971215073 4807526976 7778742049 12586269025 20365011074 32951280099 53316291173 86267571272 139583862445 225851433717 365435296162 591286729879 956722026041 1548008755920 2504730781961 4052739537881 6557470319842 10610209857723 17167680177565 "
          ]
        }
      ]
    },
    {
      "cell_type": "code",
      "source": [
        "n = int(input(\"Ingrese la cantidad de términos de fibonacci: \"))\n",
        "if n <= 0:\n",
        "    print(\"Ingrese un número mayor que 0.\")\n",
        "else:\n",
        "    a, b = 0, 1\n",
        "    contador = 0\n",
        "    print(\"Serie de fibonacci:\")\n",
        "    while contador < n:\n",
        "        print(a, end=\" \")\n",
        "        a, b = b, a + b\n",
        "        contador += 1"
      ],
      "metadata": {
        "colab": {
          "base_uri": "https://localhost:8080/"
        },
        "id": "5yr9T8soYuN3",
        "outputId": "d7b8eb6d-bd8e-4356-ed73-79a58fc26d94"
      },
      "execution_count": 6,
      "outputs": [
        {
          "output_type": "stream",
          "name": "stdout",
          "text": [
            "Ingrese la cantidad de términos de fibonacci: 67\n",
            "Serie de fibonacci:\n",
            "0 1 1 2 3 5 8 13 21 34 55 89 144 233 377 610 987 1597 2584 4181 6765 10946 17711 28657 46368 75025 121393 196418 317811 514229 832040 1346269 2178309 3524578 5702887 9227465 14930352 24157817 39088169 63245986 102334155 165580141 267914296 433494437 701408733 1134903170 1836311903 2971215073 4807526976 7778742049 12586269025 20365011074 32951280099 53316291173 86267571272 139583862445 225851433717 365435296162 591286729879 956722026041 1548008755920 2504730781961 4052739537881 6557470319842 10610209857723 17167680177565 27777890035288 "
          ]
        }
      ]
    },
    {
      "cell_type": "markdown",
      "source": [
        "Escribe un programa que adivine entre un conjunto de diez colores definidos por el usuario, con un máximo de 10 intentos."
      ],
      "metadata": {
        "id": "UZJAXg6KavVe"
      }
    },
    {
      "cell_type": "code",
      "source": [
        "import random\n",
        "colores = []\n",
        "print(\"Ingrese 10 colores:\")\n",
        "for i in range(10):\n",
        "    color = input(f\"Color {i + 1}: \").strip().lower()\n",
        "    colores.append(color)\n",
        "color_secreto = random.choice(colores)\n",
        "print(\"\\n¡Intenta adivinar el color secreto! Tienes 10 intentos.\")\n",
        "for intento in range(1, 11):\n",
        "    respuesta = input(f\"Intento {intento}: \").strip().lower()\n",
        "    if respuesta == color_secreto:\n",
        "        print(f\"¡Felicidades! Adivinaste el color en {intento} intentos.\")\n",
        "        break\n",
        "    else:\n",
        "        print(\"No, esta mal, intenta de nuevo.\")\n",
        "else:\n",
        "    print(f\"Lo siento, agotaste tus intentos. El color era: {color_secreto}\")"
      ],
      "metadata": {
        "colab": {
          "base_uri": "https://localhost:8080/"
        },
        "id": "lWZtHNYNaI8g",
        "outputId": "1bfda484-1923-4bf3-a206-3b6ca1c5c301"
      },
      "execution_count": 7,
      "outputs": [
        {
          "output_type": "stream",
          "name": "stdout",
          "text": [
            "Ingrese 10 colores:\n",
            "Color 1: verde\n",
            "Color 2: azul\n",
            "Color 3: rojo\n",
            "Color 4: negro\n",
            "Color 5: blanco\n",
            "Color 6: amarillo\n",
            "Color 7: gris\n",
            "Color 8: naranja\n",
            "Color 9: futsia\n",
            "Color 10: dorado\n",
            "\n",
            "¡Intenta adivinar el color secreto! Tienes 10 intentos.\n",
            "Intento 1: verde\n",
            "¡Felicidades! Adivinaste el color en 1 intentos.\n"
          ]
        }
      ]
    },
    {
      "cell_type": "code",
      "source": [
        "import random\n",
        "colores = []\n",
        "print(\"Ingrese 10 colores:\")\n",
        "for i in range(10):\n",
        "    color = input(f\"Color {i + 1}: \").strip().lower()\n",
        "    colores.append(color)\n",
        "color_secreto = random.choice(colores)\n",
        "print(\"\\n¡Intenta adivinar el color secreto! Tienes 10 intentos.\")\n",
        "intentos = 0\n",
        "while intentos < 10:\n",
        "    respuesta = input(f\"Intento {intentos + 1}: \").strip().lower()\n",
        "    intentos += 1\n",
        "    if respuesta == color_secreto:\n",
        "        print(f\"¡Felicidades! Adivinaste el color en {intentos} intentos.\")\n",
        "        break\n",
        "    else:\n",
        "        print(\"No, esta mal, intenta de nuevo.\")\n",
        "if respuesta != color_secreto:\n",
        "    print(f\"Lo siento, agotaste tus intentos. El color era: {color_secreto}\")"
      ],
      "metadata": {
        "colab": {
          "base_uri": "https://localhost:8080/"
        },
        "id": "ATZncRfia4X0",
        "outputId": "7cd541bc-76fe-4413-e157-28ecc67e9e4d"
      },
      "execution_count": null,
      "outputs": [
        {
          "output_type": "stream",
          "name": "stdout",
          "text": [
            "Ingrese 10 colores:\n"
          ]
        }
      ]
    }
  ]
}
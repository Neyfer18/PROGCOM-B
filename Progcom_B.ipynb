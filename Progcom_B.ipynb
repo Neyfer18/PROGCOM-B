{
  "nbformat": 4,
  "nbformat_minor": 0,
  "metadata": {
    "colab": {
      "provenance": []
    },
    "kernelspec": {
      "name": "python3",
      "display_name": "Python 3"
    },
    "language_info": {
      "name": "python"
    }
  },
  "cells": [
    {
      "cell_type": "markdown",
      "source": [
        "Crea un programa que determine la calificación en letras (A, B, C, D, F) según una nota numérica (0-100)."
      ],
      "metadata": {
        "id": "i6SQMNChouVn"
      }
    },
    {
      "cell_type": "code",
      "execution_count": 1,
      "metadata": {
        "colab": {
          "base_uri": "https://localhost:8080/"
        },
        "id": "tg1EvK8cnoxD",
        "outputId": "a6ab4c40-3c02-4319-cb79-a8a423e4befa"
      },
      "outputs": [
        {
          "output_type": "stream",
          "name": "stdout",
          "text": [
            "Introduce tu nota (0-100): 4\n",
            "Tu calificación es: F\n"
          ]
        }
      ],
      "source": [
        "nota = int(input(\"Introduce tu nota (0-100): \"))\n",
        "for i in range(1):\n",
        "    if 90 <= nota <= 100:\n",
        "        calificacion = 'A'\n",
        "    elif 80 <= nota < 90:\n",
        "        calificacion = 'B'\n",
        "    elif 70 <= nota < 80:\n",
        "        calificacion = 'C'\n",
        "    elif 60 <= nota < 70:\n",
        "        calificacion = 'D'\n",
        "    elif 0 <= nota < 60:\n",
        "        calificacion = 'F'\n",
        "    else:\n",
        "        calificacion = 'Nota inválida'\n",
        "print(f\"Tu calificación es: {calificacion}\")"
      ]
    },
    {
      "cell_type": "code",
      "source": [
        "nota = int(input(\"Introduce tu nota (0-100): \"))\n",
        "while nota < 0 or nota > 100:\n",
        "    print(\"La nota ingresada no es válida. Debe estar entre 0 y 100.\")\n",
        "    nota = int(input(\"Introduce tu nota (0-100): \"))\n",
        "if 90 <= nota <= 100:\n",
        "    calificacion = 'A'\n",
        "elif 80 <= nota < 90:\n",
        "    calificacion = 'B'\n",
        "elif 70 <= nota < 80:\n",
        "    calificacion = 'C'\n",
        "elif 60 <= nota < 70:\n",
        "    calificacion = 'D'\n",
        "else:\n",
        "    calificacion = 'F'\n",
        "print(f\"Tu calificación es: {calificacion}\")"
      ],
      "metadata": {
        "colab": {
          "base_uri": "https://localhost:8080/"
        },
        "id": "DWE-QOCYoODc",
        "outputId": "4ecc3c20-57f8-43d9-9c3c-af3e7eb9bb59"
      },
      "execution_count": 2,
      "outputs": [
        {
          "output_type": "stream",
          "name": "stdout",
          "text": [
            "Introduce tu nota (0-100): 5\n",
            "Tu calificación es: F\n"
          ]
        }
      ]
    },
    {
      "cell_type": "markdown",
      "source": [
        "Escribe un programa que determine el día de la semana según un número (1-7)"
      ],
      "metadata": {
        "id": "jqEopIYFo1_j"
      }
    },
    {
      "cell_type": "code",
      "source": [
        "numero = int(input(\"Introduce un número (1-7) para determinar el día de la semana: \"))\n",
        "for i in range(1):\n",
        "    if numero == 1:\n",
        "        dia = \"Lunes\"\n",
        "    elif numero == 2:\n",
        "        dia = \"Martes\"\n",
        "    elif numero == 3:\n",
        "        dia = \"Miércoles\"\n",
        "    elif numero == 4:\n",
        "        dia = \"Jueves\"\n",
        "    elif numero == 5:\n",
        "        dia = \"Viernes\"\n",
        "    elif numero == 6:\n",
        "        dia = \"Sábado\"\n",
        "    elif numero == 7:\n",
        "        dia = \"Domingo\"\n",
        "    else:\n",
        "        dia = \"Número inválido\"\n",
        "        break\n",
        "print(f\"El día de la semana es: {dia}\")\n"
      ],
      "metadata": {
        "colab": {
          "base_uri": "https://localhost:8080/"
        },
        "id": "MbXcBkZroeDj",
        "outputId": "6bee8d91-6932-4998-f619-9152cf72a8ff"
      },
      "execution_count": 3,
      "outputs": [
        {
          "output_type": "stream",
          "name": "stdout",
          "text": [
            "Introduce un número (1-7) para determinar el día de la semana: 5\n",
            "El día de la semana es: Viernes\n"
          ]
        }
      ]
    },
    {
      "cell_type": "code",
      "source": [
        "numero = int(input(\"Introduce un número (1-7) para determinar el día de la semana: \"))\n",
        "while numero < 1 or numero > 7:\n",
        "    print(\"Número inválido. Debe ser un número entre 1 y 7.\")\n",
        "    numero = int(input(\"Introduce un número (1-7) para determinar el día de la semana: \"))\n",
        "if numero == 1:\n",
        "    dia = \"Lunes\"\n",
        "elif numero == 2:\n",
        "    dia = \"Martes\"\n",
        "elif numero == 3:\n",
        "    dia = \"Miércoles\"\n",
        "elif numero == 4:\n",
        "    dia = \"Jueves\"\n",
        "elif numero == 5:\n",
        "    dia = \"Viernes\"\n",
        "elif numero == 6:\n",
        "    dia = \"Sábado\"\n",
        "else:\n",
        "    dia = \"Domingo\"\n",
        "print(f\"El día de la semana es: {dia}\")"
      ],
      "metadata": {
        "colab": {
          "base_uri": "https://localhost:8080/"
        },
        "id": "utvioB9EolmL",
        "outputId": "b327bdc3-472b-4b33-cf4b-75f39e381f2a"
      },
      "execution_count": 4,
      "outputs": [
        {
          "output_type": "stream",
          "name": "stdout",
          "text": [
            "Introduce un número (1-7) para determinar el día de la semana: 5\n",
            "El día de la semana es: Viernes\n"
          ]
        }
      ]
    },
    {
      "cell_type": "markdown",
      "source": [
        "Desarrolla un programa que valide si tres números pueden formar un triángulo y de qué tipo es."
      ],
      "metadata": {
        "id": "tZpTDtRrpLyr"
      }
    },
    {
      "cell_type": "code",
      "source": [
        "a = int(input(\"Introduce el primer lado del triángulo: \"))\n",
        "b = int(input(\"Introduce el segundo lado del triángulo: \"))\n",
        "c = int(input(\"Introduce el tercer lado del triángulo: \"))\n",
        "for i in range(1):\n",
        "    if a + b > c and a + c > b and b + c > a:\n",
        "        if a == b == c:\n",
        "            tipo = \"Equilátero\"\n",
        "        elif a == b or a == c or b == c:\n",
        "            tipo = \"Isósceles\"\n",
        "        else:\n",
        "            tipo = \"Escaleno\"\n",
        "    else:\n",
        "        tipo = \"No puede formar un triángulo\"\n",
        "        break\n",
        "print(f\"El triángulo es: {tipo}\")"
      ],
      "metadata": {
        "colab": {
          "base_uri": "https://localhost:8080/"
        },
        "id": "VJUp3DiVo3r-",
        "outputId": "4aab9e3f-e48e-4d0d-9332-6f83f0a991c8"
      },
      "execution_count": 5,
      "outputs": [
        {
          "output_type": "stream",
          "name": "stdout",
          "text": [
            "Introduce el primer lado del triángulo: 3\n",
            "Introduce el segundo lado del triángulo: 5\n",
            "Introduce el tercer lado del triángulo: 3\n",
            "El triángulo es: Isósceles\n"
          ]
        }
      ]
    },
    {
      "cell_type": "code",
      "source": [
        "a = int(input(\"Introduce el primer lado del triángulo: \"))\n",
        "b = int(input(\"Introduce el segundo lado del triángulo: \"))\n",
        "c = int(input(\"Introduce el tercer lado del triángulo: \"))\n",
        "while not (a + b > c and a + c > b and b + c > a):\n",
        "    print(\"Los números no pueden formar un triángulo.\")\n",
        "    a = int(input(\"Introduce el primer lado del triángulo: \"))\n",
        "    b = int(input(\"Introduce el segundo lado del triángulo: \"))\n",
        "    c = int(input(\"Introduce el tercer lado del triángulo: \"))\n",
        "if a == b == c:\n",
        "    tipo = \"Equilátero\"\n",
        "elif a == b or a == c or b == c:\n",
        "    tipo = \"Isósceles\"\n",
        "else:\n",
        "    tipo = \"Escaleno\"\n",
        "print(f\"El triángulo es: {tipo}\")"
      ],
      "metadata": {
        "colab": {
          "base_uri": "https://localhost:8080/"
        },
        "id": "XRBjb0q1pOmU",
        "outputId": "ea4a298b-8c15-4cfe-dc92-4bb6a3271f59"
      },
      "execution_count": 6,
      "outputs": [
        {
          "output_type": "stream",
          "name": "stdout",
          "text": [
            "Introduce el primer lado del triángulo: 3\n",
            "Introduce el segundo lado del triángulo: 5\n",
            "Introduce el tercer lado del triángulo: 5\n",
            "El triángulo es: Isósceles\n"
          ]
        }
      ]
    },
    {
      "cell_type": "markdown",
      "source": [
        "Crea un programa que muestre la tabla de multiplicar de un número hasta el 10."
      ],
      "metadata": {
        "id": "t0ASHMbnpilr"
      }
    },
    {
      "cell_type": "code",
      "source": [
        "numero = int(input(\"Introduce un número para ver su tabla de multiplicar: \"))\n",
        "for i in range(1, 11):  # El rango va del 1 al 10\n",
        "    print(f\"{numero} x {i} = {numero * i}\")"
      ],
      "metadata": {
        "colab": {
          "base_uri": "https://localhost:8080/"
        },
        "id": "zAPQOdCOpYMK",
        "outputId": "71b222a9-04ed-4503-ae25-383b3b831de1"
      },
      "execution_count": 7,
      "outputs": [
        {
          "output_type": "stream",
          "name": "stdout",
          "text": [
            "Introduce un número para ver su tabla de multiplicar: 5\n",
            "5 x 1 = 5\n",
            "5 x 2 = 10\n",
            "5 x 3 = 15\n",
            "5 x 4 = 20\n",
            "5 x 5 = 25\n",
            "5 x 6 = 30\n",
            "5 x 7 = 35\n",
            "5 x 8 = 40\n",
            "5 x 9 = 45\n",
            "5 x 10 = 50\n"
          ]
        }
      ]
    },
    {
      "cell_type": "code",
      "source": [
        "numero = int(input(\"Introduce un número para ver su tabla de multiplicar: \"))\n",
        "i = 1\n",
        "while i <= 10:\n",
        "    print(f\"{numero} x {i} = {numero * i}\")\n",
        "    i += 1"
      ],
      "metadata": {
        "colab": {
          "base_uri": "https://localhost:8080/"
        },
        "id": "-GtgNZljpkx0",
        "outputId": "b3bb5354-b8e4-4d01-a4ac-df9992b1cc90"
      },
      "execution_count": 10,
      "outputs": [
        {
          "output_type": "stream",
          "name": "stdout",
          "text": [
            "Introduce un número para ver su tabla de multiplicar: 5\n",
            "5 x 1 = 5\n",
            "5 x 2 = 10\n",
            "5 x 3 = 15\n",
            "5 x 4 = 20\n",
            "5 x 5 = 25\n",
            "5 x 6 = 30\n",
            "5 x 7 = 35\n",
            "5 x 8 = 40\n",
            "5 x 9 = 45\n",
            "5 x 10 = 50\n"
          ]
        }
      ]
    },
    {
      "cell_type": "code",
      "source": [],
      "metadata": {
        "id": "EgNgidECqOLD"
      },
      "execution_count": null,
      "outputs": []
    },
    {
      "cell_type": "markdown",
      "source": [
        "Escribe un programa que calcule la suma de números naturales hasta n."
      ],
      "metadata": {
        "id": "pZLT89ucqPgL"
      }
    },
    {
      "cell_type": "code",
      "source": [
        "n = int(input(\"Introduce un número natural (n) para calcular la suma hasta ese número: \"))\n",
        "suma = 0\n",
        "for i in range(1, n+1):\n",
        "    suma += i\n",
        "print(f\"La suma de los números naturales hasta {n} es: {suma}\")"
      ],
      "metadata": {
        "colab": {
          "base_uri": "https://localhost:8080/"
        },
        "id": "sjN4bUy3qCjM",
        "outputId": "1fd74ea5-aaf6-44c7-dbad-39a84f7afd5d"
      },
      "execution_count": 11,
      "outputs": [
        {
          "output_type": "stream",
          "name": "stdout",
          "text": [
            "Introduce un número natural (n) para calcular la suma hasta ese número: 6\n",
            "La suma de los números naturales hasta 6 es: 21\n"
          ]
        }
      ]
    },
    {
      "cell_type": "code",
      "source": [
        "n = int(input(\"Introduce un número natural (n) para calcular la suma hasta ese número: \"))\n",
        "suma = 0\n",
        "i = 1\n",
        "while i <= n:\n",
        "    suma += i\n",
        "    i += 1\n",
        "print(f\"La suma de los números naturales hasta {n} es: {suma}\")"
      ],
      "metadata": {
        "colab": {
          "base_uri": "https://localhost:8080/"
        },
        "id": "4USo11w1qILC",
        "outputId": "588ca0c9-72a0-4371-e37c-b44ec613a05c"
      },
      "execution_count": 12,
      "outputs": [
        {
          "output_type": "stream",
          "name": "stdout",
          "text": [
            "Introduce un número natural (n) para calcular la suma hasta ese número: 6\n",
            "La suma de los números naturales hasta 6 es: 21\n"
          ]
        }
      ]
    }
  ]
}
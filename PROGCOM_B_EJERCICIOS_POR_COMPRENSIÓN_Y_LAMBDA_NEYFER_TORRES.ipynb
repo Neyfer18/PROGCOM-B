{
  "nbformat": 4,
  "nbformat_minor": 0,
  "metadata": {
    "colab": {
      "provenance": []
    },
    "kernelspec": {
      "name": "python3",
      "display_name": "Python 3"
    },
    "language_info": {
      "name": "python"
    }
  },
  "cells": [
    {
      "cell_type": "markdown",
      "source": [
        "Escribe un programa que adivine entre un conjunto de diez colores definidos por el usuario, con un máximo de 10 intentos."
      ],
      "metadata": {
        "id": "-UAZdpGEkbYm"
      }
    },
    {
      "cell_type": "code",
      "execution_count": 3,
      "metadata": {
        "colab": {
          "base_uri": "https://localhost:8080/"
        },
        "id": "qyzIIM9XkUXd",
        "outputId": "55c40030-c384-4456-b4d9-a0b551513488"
      },
      "outputs": [
        {
          "name": "stdout",
          "output_type": "stream",
          "text": [
            "Elige un color de la lista: rojo, azul, verde, amarillo, dorado, morado, futsia, gris, negro, blanco: blanco\n",
            "Intento 1: ¿Es azul? (sí/no): si\n",
            "Intento 2: ¿Es dorado? (sí/no): si\n",
            "Intento 3: ¿Es rojo? (sí/no): si\n",
            "Intento 4: ¿Es futsia? (sí/no): no\n",
            "Intento 5: ¿Es negro? (sí/no): si\n",
            "Intento 6: ¿Es verde? (sí/no): no\n",
            "Intento 7: ¿Es morado? (sí/no): si\n",
            "Intento 8: ¿Es blanco? (sí/no): no\n",
            "Intento 9: ¿Es gris? (sí/no): si\n",
            "Intento 10: ¿Es amarillo? (sí/no): si\n"
          ]
        }
      ],
      "source": [
        "import random\n",
        "colores = [\"rojo\", \"azul\", \"verde\", \"amarillo\", \"dorado\", \"morado\", \"futsia\", \"gris\", \"negro\", \"blanco\"]\n",
        "color_elegido = input(\"Elige un color de la lista: \" + \", \".join(colores) + \": \").strip().lower()\n",
        "if color_elegido in colores:\n",
        "    colores_restantes = colores.copy()\n",
        "    for intento in range(10):\n",
        "        color_adivinado = random.choice(colores_restantes)\n",
        "        respuesta = input(f\"Intento {intento + 1}: ¿Es {color_adivinado}? (sí/no): \").strip().lower()\n",
        "        if respuesta == 'sí':\n",
        "            print(f\"¡He adivinado tu color! Es {color_adivinado}.\")\n",
        "            break\n",
        "        colores_restantes = [c for c in colores_restantes if c != color_adivinado]\n",
        "else:\n",
        "    print(\"Color no válido.\")"
      ]
    },
    {
      "cell_type": "code",
      "source": [
        "import random\n",
        "colores = [\"rojo\", \"azul\", \"verde\", \"amarillo\", \"dorado\", \"morado\", \"futsia\", \"gris\", \"negro\", \"blanco\"]\n",
        "color_elegido = input(\"Elige un color de la lista: \" + \", \".join(colores) + \": \").strip().lower()\n",
        "if color_elegido in colores:\n",
        "    colores_restantes = colores.copy()\n",
        "    ver_respuesta = lambda r: r == 'sí'\n",
        "    for intento in range(10):\n",
        "        color_adivinado = random.choice(colores_restantes)\n",
        "        respuesta = input(f\"Intento {intento + 1}: ¿Es {color_adivinado}? (sí/no): \").strip().lower()\n",
        "        if ver_respuesta(respuesta):\n",
        "            print(f\"¡He adivinado tu color! Es {color_adivinado}.\")\n",
        "            break\n",
        "        colores_restantes = [c for c in colores_restantes if c != color_adivinado]\n",
        "else:\n",
        "    print(\"Color no válido.\")"
      ],
      "metadata": {
        "colab": {
          "base_uri": "https://localhost:8080/"
        },
        "id": "r0S_CMVrl-Ez",
        "outputId": "d70c8c9a-eb11-4770-8be7-b5fa7c100e1a"
      },
      "execution_count": 9,
      "outputs": [
        {
          "name": "stdout",
          "output_type": "stream",
          "text": [
            "Elige un color de la lista: rojo, azul, verde, amarillo, dorado, morado, futsia, gris, negro, blanco: blanco\n",
            "Intento 1: ¿Es amarillo? (sí/no): si\n",
            "Intento 2: ¿Es blanco? (sí/no): si\n",
            "Intento 3: ¿Es dorado? (sí/no): si\n",
            "Intento 4: ¿Es gris? (sí/no): si\n",
            "Intento 5: ¿Es futsia? (sí/no): no\n",
            "Intento 6: ¿Es azul? (sí/no): si\n",
            "Intento 7: ¿Es morado? (sí/no): no\n",
            "Intento 8: ¿Es verde? (sí/no): no\n",
            "Intento 9: ¿Es negro? (sí/no): si\n",
            "Intento 10: ¿Es rojo? (sí/no): no\n"
          ]
        }
      ]
    },
    {
      "cell_type": "markdown",
      "source": [
        "Desarrolla un programa que muestre los números pares del 1 al 100."
      ],
      "metadata": {
        "id": "zaHCBSQTm-Li"
      }
    },
    {
      "cell_type": "code",
      "source": [
        "numeros_pares = [num for num in range(1, 101) if num % 2 == 0]\n",
        "print(\"Números pares del 1 al 100:\", numeros_pares)"
      ],
      "metadata": {
        "colab": {
          "base_uri": "https://localhost:8080/"
        },
        "id": "0UqGZfYznFIT",
        "outputId": "48af55d2-52e4-40ae-c65a-c5138a15691d"
      },
      "execution_count": 10,
      "outputs": [
        {
          "output_type": "stream",
          "name": "stdout",
          "text": [
            "Números pares del 1 al 100: [2, 4, 6, 8, 10, 12, 14, 16, 18, 20, 22, 24, 26, 28, 30, 32, 34, 36, 38, 40, 42, 44, 46, 48, 50, 52, 54, 56, 58, 60, 62, 64, 66, 68, 70, 72, 74, 76, 78, 80, 82, 84, 86, 88, 90, 92, 94, 96, 98, 100]\n"
          ]
        }
      ]
    },
    {
      "cell_type": "code",
      "source": [
        "numeros = range(1, 101)\n",
        "numeros_pares = list(filter(lambda num: num % 2 == 0, numeros))\n",
        "print(\"Números pares del 1 al 100:\", numeros_pares)"
      ],
      "metadata": {
        "colab": {
          "base_uri": "https://localhost:8080/"
        },
        "id": "BNzvHz0RnKU5",
        "outputId": "c5a99cda-c7f6-4549-8b67-cd39a929d98f"
      },
      "execution_count": 11,
      "outputs": [
        {
          "output_type": "stream",
          "name": "stdout",
          "text": [
            "Números pares del 1 al 100: [2, 4, 6, 8, 10, 12, 14, 16, 18, 20, 22, 24, 26, 28, 30, 32, 34, 36, 38, 40, 42, 44, 46, 48, 50, 52, 54, 56, 58, 60, 62, 64, 66, 68, 70, 72, 74, 76, 78, 80, 82, 84, 86, 88, 90, 92, 94, 96, 98, 100]\n"
          ]
        }
      ]
    },
    {
      "cell_type": "markdown",
      "source": [
        "Crea un programa que calcule la suma de los dígitos de un número."
      ],
      "metadata": {
        "id": "VZuVv4Agodaz"
      }
    },
    {
      "cell_type": "code",
      "source": [
        "def suma_digitos_comprension(número):\n",
        "    return sum([int(digito) for digito in str(número)])\n",
        "número = 789\n",
        "resultado = suma_digitos_comprension(número)\n",
        "print(f\"La suma de los dígitos de {número} es: {resultado}\")"
      ],
      "metadata": {
        "colab": {
          "base_uri": "https://localhost:8080/"
        },
        "id": "K7tfz9DuoEz5",
        "outputId": "980fe986-5969-4757-b10b-7ac658c68756"
      },
      "execution_count": 20,
      "outputs": [
        {
          "output_type": "stream",
          "name": "stdout",
          "text": [
            "La suma de los dígitos de 789 es: 24\n"
          ]
        }
      ]
    },
    {
      "cell_type": "code",
      "source": [
        "suma_digitos_lambda = lambda número: sum(int(digito) for digito in str(número))\n",
        "número = 111\n",
        "resultado = suma_digitos_lambda(número)\n",
        "print(f\"La suma de los dígitos de {número} es: {resultado}\")"
      ],
      "metadata": {
        "colab": {
          "base_uri": "https://localhost:8080/"
        },
        "id": "yvNq5uS_oTXj",
        "outputId": "ad7617fe-b9e7-4c24-a639-a91c20ea9712"
      },
      "execution_count": 22,
      "outputs": [
        {
          "output_type": "stream",
          "name": "stdout",
          "text": [
            "La suma de los dígitos de 111 es: 3\n"
          ]
        }
      ]
    },
    {
      "cell_type": "markdown",
      "source": [
        "Escribe un programa que determine si un número es primo."
      ],
      "metadata": {
        "id": "2gITALWAoghY"
      }
    },
    {
      "cell_type": "code",
      "source": [
        "número = int(input(\"Introduce un número: \"))\n",
        "es_primo = número > 1 and all(número % i for i in range(2, int(número**0.5) + 1))\n",
        "print(f\"{número} es un número primo.\" if es_primo else f\"{número} no es un número primo.\")"
      ],
      "metadata": {
        "colab": {
          "base_uri": "https://localhost:8080/"
        },
        "id": "5-USYpeXos_a",
        "outputId": "d579b9ac-b1b7-43ad-ae88-eab25fc1d508"
      },
      "execution_count": 25,
      "outputs": [
        {
          "output_type": "stream",
          "name": "stdout",
          "text": [
            "Introduce un número: 27\n",
            "27 no es un número primo.\n"
          ]
        }
      ]
    },
    {
      "cell_type": "code",
      "source": [
        "número = int(input(\"Introduce un número: \"))\n",
        "es_primo = lambda n: n > 1 and all(n % i for i in range(2, int(n**0.5) + 1))\n",
        "print(f\"{número} es un número primo.\" if es_primo(número) else f\"{número} no es un número primo.\")"
      ],
      "metadata": {
        "colab": {
          "base_uri": "https://localhost:8080/"
        },
        "id": "1DunI6wxpUBo",
        "outputId": "628eeb4b-1936-4eed-86b2-c65fe4070cb5"
      },
      "execution_count": 26,
      "outputs": [
        {
          "output_type": "stream",
          "name": "stdout",
          "text": [
            "Introduce un número: 4\n",
            "4 no es un número primo.\n"
          ]
        }
      ]
    },
    {
      "cell_type": "markdown",
      "source": [
        "Desarrolla un programa que muestre el patrón de un triángulo con asteriscos."
      ],
      "metadata": {
        "id": "1p1A6hynpx2v"
      }
    },
    {
      "cell_type": "code",
      "source": [
        "altura = int(input(\"Introduce la altura del triángulo: \"))\n",
        "triangulo = ['*' * i for i in range(1, altura + 1)]\n",
        "print('\\n'.join(triangulo))"
      ],
      "metadata": {
        "colab": {
          "base_uri": "https://localhost:8080/"
        },
        "id": "Lz_wqMT0prsL",
        "outputId": "1c2bcc7e-3736-405f-bd76-6f1e1aca99ff"
      },
      "execution_count": 27,
      "outputs": [
        {
          "output_type": "stream",
          "name": "stdout",
          "text": [
            "Introduce la altura del triángulo: 8\n",
            "*\n",
            "**\n",
            "***\n",
            "****\n",
            "*****\n",
            "******\n",
            "*******\n",
            "********\n"
          ]
        }
      ]
    },
    {
      "cell_type": "code",
      "source": [
        "altura = int(input(\"Introduce la altura del triángulo: \"))\n",
        "triangulo = lambda h: '\\n'.join('*' * i for i in range(1, h + 1))\n",
        "print(triangulo(altura))"
      ],
      "metadata": {
        "colab": {
          "base_uri": "https://localhost:8080/"
        },
        "id": "rhj-EXNEp0aQ",
        "outputId": "b1f7dd15-ca8a-44b9-84aa-c6d1cae74220"
      },
      "execution_count": 28,
      "outputs": [
        {
          "output_type": "stream",
          "name": "stdout",
          "text": [
            "Introduce la altura del triángulo: 9\n",
            "*\n",
            "**\n",
            "***\n",
            "****\n",
            "*****\n",
            "******\n",
            "*******\n",
            "********\n",
            "*********\n"
          ]
        }
      ]
    },
    {
      "cell_type": "markdown",
      "source": [
        "Crea un programa que calcule la potencia de un número sin usar el operador **."
      ],
      "metadata": {
        "id": "oDBkwOfCqSuH"
      }
    },
    {
      "cell_type": "code",
      "source": [
        "base = float(input(\"Introduce la base: \"))\n",
        "exponente = int(input(\"Introduce el exponente: \"))\n",
        "resultado = 1 if exponente >= 0 else 1 / (base * (base ** abs(exponente - 1)))\n",
        "resultado = base * resultado if exponente > 0 else resultado\n",
        "for _ in range(abs(exponente) - 1):\n",
        "    resultado *= base\n",
        "print(f\"{base} elevado a {exponente} es: {resultado}\")"
      ],
      "metadata": {
        "colab": {
          "base_uri": "https://localhost:8080/"
        },
        "id": "01dqjfGeqM_P",
        "outputId": "bdef026f-18c7-42e9-ec8c-5266cb321df6"
      },
      "execution_count": 30,
      "outputs": [
        {
          "output_type": "stream",
          "name": "stdout",
          "text": [
            "Introduce la base: 4\n",
            "Introduce el exponente: 2\n",
            "4.0 elevado a 2 es: 16.0\n"
          ]
        }
      ]
    },
    {
      "cell_type": "code",
      "source": [
        "base = float(input(\"Introduce la base: \"))\n",
        "exponente = int(input(\"Introduce el exponente: \"))\n",
        "potencia = lambda b, e: (1 / (b * potencia(b, abs(e) - 1))) if e < 0 else (b * potencia(b, e - 1) if e > 0 else 1)\n",
        "resultado = potencia(base, exponente)\n",
        "print(f\"{base} elevado a {exponente} es: {resultado}\")"
      ],
      "metadata": {
        "colab": {
          "base_uri": "https://localhost:8080/"
        },
        "id": "uRtVadqsqVBH",
        "outputId": "ece54832-6a95-4914-9d74-62ba0ca99167"
      },
      "execution_count": 31,
      "outputs": [
        {
          "output_type": "stream",
          "name": "stdout",
          "text": [
            "Introduce la base: 7\n",
            "Introduce el exponente: 3\n",
            "7.0 elevado a 3 es: 343.0\n"
          ]
        }
      ]
    },
    {
      "cell_type": "markdown",
      "source": [
        "Escribe un programa que muestre todas las tablas de multiplicar del 1 al 10."
      ],
      "metadata": {
        "id": "fkeYCPqErB0e"
      }
    },
    {
      "cell_type": "code",
      "source": [
        "tablas = [[f\"{i} x {j} = {i * j}\" for j in range(1, 11)] for i in range(1, 11)]\n",
        "for tabla in tablas:\n",
        "    print(\"\\n\".join(tabla))\n",
        "    print()"
      ],
      "metadata": {
        "colab": {
          "base_uri": "https://localhost:8080/"
        },
        "id": "GwqPmkjKqsKf",
        "outputId": "d51bc5d3-a875-4286-cfa2-007ccfce03ca"
      },
      "execution_count": 32,
      "outputs": [
        {
          "output_type": "stream",
          "name": "stdout",
          "text": [
            "1 x 1 = 1\n",
            "1 x 2 = 2\n",
            "1 x 3 = 3\n",
            "1 x 4 = 4\n",
            "1 x 5 = 5\n",
            "1 x 6 = 6\n",
            "1 x 7 = 7\n",
            "1 x 8 = 8\n",
            "1 x 9 = 9\n",
            "1 x 10 = 10\n",
            "\n",
            "2 x 1 = 2\n",
            "2 x 2 = 4\n",
            "2 x 3 = 6\n",
            "2 x 4 = 8\n",
            "2 x 5 = 10\n",
            "2 x 6 = 12\n",
            "2 x 7 = 14\n",
            "2 x 8 = 16\n",
            "2 x 9 = 18\n",
            "2 x 10 = 20\n",
            "\n",
            "3 x 1 = 3\n",
            "3 x 2 = 6\n",
            "3 x 3 = 9\n",
            "3 x 4 = 12\n",
            "3 x 5 = 15\n",
            "3 x 6 = 18\n",
            "3 x 7 = 21\n",
            "3 x 8 = 24\n",
            "3 x 9 = 27\n",
            "3 x 10 = 30\n",
            "\n",
            "4 x 1 = 4\n",
            "4 x 2 = 8\n",
            "4 x 3 = 12\n",
            "4 x 4 = 16\n",
            "4 x 5 = 20\n",
            "4 x 6 = 24\n",
            "4 x 7 = 28\n",
            "4 x 8 = 32\n",
            "4 x 9 = 36\n",
            "4 x 10 = 40\n",
            "\n",
            "5 x 1 = 5\n",
            "5 x 2 = 10\n",
            "5 x 3 = 15\n",
            "5 x 4 = 20\n",
            "5 x 5 = 25\n",
            "5 x 6 = 30\n",
            "5 x 7 = 35\n",
            "5 x 8 = 40\n",
            "5 x 9 = 45\n",
            "5 x 10 = 50\n",
            "\n",
            "6 x 1 = 6\n",
            "6 x 2 = 12\n",
            "6 x 3 = 18\n",
            "6 x 4 = 24\n",
            "6 x 5 = 30\n",
            "6 x 6 = 36\n",
            "6 x 7 = 42\n",
            "6 x 8 = 48\n",
            "6 x 9 = 54\n",
            "6 x 10 = 60\n",
            "\n",
            "7 x 1 = 7\n",
            "7 x 2 = 14\n",
            "7 x 3 = 21\n",
            "7 x 4 = 28\n",
            "7 x 5 = 35\n",
            "7 x 6 = 42\n",
            "7 x 7 = 49\n",
            "7 x 8 = 56\n",
            "7 x 9 = 63\n",
            "7 x 10 = 70\n",
            "\n",
            "8 x 1 = 8\n",
            "8 x 2 = 16\n",
            "8 x 3 = 24\n",
            "8 x 4 = 32\n",
            "8 x 5 = 40\n",
            "8 x 6 = 48\n",
            "8 x 7 = 56\n",
            "8 x 8 = 64\n",
            "8 x 9 = 72\n",
            "8 x 10 = 80\n",
            "\n",
            "9 x 1 = 9\n",
            "9 x 2 = 18\n",
            "9 x 3 = 27\n",
            "9 x 4 = 36\n",
            "9 x 5 = 45\n",
            "9 x 6 = 54\n",
            "9 x 7 = 63\n",
            "9 x 8 = 72\n",
            "9 x 9 = 81\n",
            "9 x 10 = 90\n",
            "\n",
            "10 x 1 = 10\n",
            "10 x 2 = 20\n",
            "10 x 3 = 30\n",
            "10 x 4 = 40\n",
            "10 x 5 = 50\n",
            "10 x 6 = 60\n",
            "10 x 7 = 70\n",
            "10 x 8 = 80\n",
            "10 x 9 = 90\n",
            "10 x 10 = 100\n",
            "\n"
          ]
        }
      ]
    },
    {
      "cell_type": "code",
      "source": [
        "tabla_multiplicar = lambda n: [f\"{n} x {j} = {n * j}\" for j in range(1, 11)]\n",
        "for i in range(1, 11):\n",
        "    print(\"\\n\".join(tabla_multiplicar(i)))\n",
        "    print()"
      ],
      "metadata": {
        "colab": {
          "base_uri": "https://localhost:8080/"
        },
        "id": "xrQjNrS-q1uH",
        "outputId": "f603099a-34a8-4068-84a1-3418838a92c4"
      },
      "execution_count": 33,
      "outputs": [
        {
          "output_type": "stream",
          "name": "stdout",
          "text": [
            "1 x 1 = 1\n",
            "1 x 2 = 2\n",
            "1 x 3 = 3\n",
            "1 x 4 = 4\n",
            "1 x 5 = 5\n",
            "1 x 6 = 6\n",
            "1 x 7 = 7\n",
            "1 x 8 = 8\n",
            "1 x 9 = 9\n",
            "1 x 10 = 10\n",
            "\n",
            "2 x 1 = 2\n",
            "2 x 2 = 4\n",
            "2 x 3 = 6\n",
            "2 x 4 = 8\n",
            "2 x 5 = 10\n",
            "2 x 6 = 12\n",
            "2 x 7 = 14\n",
            "2 x 8 = 16\n",
            "2 x 9 = 18\n",
            "2 x 10 = 20\n",
            "\n",
            "3 x 1 = 3\n",
            "3 x 2 = 6\n",
            "3 x 3 = 9\n",
            "3 x 4 = 12\n",
            "3 x 5 = 15\n",
            "3 x 6 = 18\n",
            "3 x 7 = 21\n",
            "3 x 8 = 24\n",
            "3 x 9 = 27\n",
            "3 x 10 = 30\n",
            "\n",
            "4 x 1 = 4\n",
            "4 x 2 = 8\n",
            "4 x 3 = 12\n",
            "4 x 4 = 16\n",
            "4 x 5 = 20\n",
            "4 x 6 = 24\n",
            "4 x 7 = 28\n",
            "4 x 8 = 32\n",
            "4 x 9 = 36\n",
            "4 x 10 = 40\n",
            "\n",
            "5 x 1 = 5\n",
            "5 x 2 = 10\n",
            "5 x 3 = 15\n",
            "5 x 4 = 20\n",
            "5 x 5 = 25\n",
            "5 x 6 = 30\n",
            "5 x 7 = 35\n",
            "5 x 8 = 40\n",
            "5 x 9 = 45\n",
            "5 x 10 = 50\n",
            "\n",
            "6 x 1 = 6\n",
            "6 x 2 = 12\n",
            "6 x 3 = 18\n",
            "6 x 4 = 24\n",
            "6 x 5 = 30\n",
            "6 x 6 = 36\n",
            "6 x 7 = 42\n",
            "6 x 8 = 48\n",
            "6 x 9 = 54\n",
            "6 x 10 = 60\n",
            "\n",
            "7 x 1 = 7\n",
            "7 x 2 = 14\n",
            "7 x 3 = 21\n",
            "7 x 4 = 28\n",
            "7 x 5 = 35\n",
            "7 x 6 = 42\n",
            "7 x 7 = 49\n",
            "7 x 8 = 56\n",
            "7 x 9 = 63\n",
            "7 x 10 = 70\n",
            "\n",
            "8 x 1 = 8\n",
            "8 x 2 = 16\n",
            "8 x 3 = 24\n",
            "8 x 4 = 32\n",
            "8 x 5 = 40\n",
            "8 x 6 = 48\n",
            "8 x 7 = 56\n",
            "8 x 8 = 64\n",
            "8 x 9 = 72\n",
            "8 x 10 = 80\n",
            "\n",
            "9 x 1 = 9\n",
            "9 x 2 = 18\n",
            "9 x 3 = 27\n",
            "9 x 4 = 36\n",
            "9 x 5 = 45\n",
            "9 x 6 = 54\n",
            "9 x 7 = 63\n",
            "9 x 8 = 72\n",
            "9 x 9 = 81\n",
            "9 x 10 = 90\n",
            "\n",
            "10 x 1 = 10\n",
            "10 x 2 = 20\n",
            "10 x 3 = 30\n",
            "10 x 4 = 40\n",
            "10 x 5 = 50\n",
            "10 x 6 = 60\n",
            "10 x 7 = 70\n",
            "10 x 8 = 80\n",
            "10 x 9 = 90\n",
            "10 x 10 = 100\n",
            "\n"
          ]
        }
      ]
    },
    {
      "cell_type": "markdown",
      "source": [
        "Desarrolla un programa que encuentre todos los números perfectos hasta n."
      ],
      "metadata": {
        "id": "DA4R7j4prtTG"
      }
    },
    {
      "cell_type": "code",
      "source": [
        "n = int(input(\"Introduce un número: \"))\n",
        "numeros_perfectos = [num for num in range(1, n + 1) if sum(i for i in range(1, num) if num % i == 0) == num]\n",
        "print(f\"Números perfectos hasta {n}: {numeros_perfectos}\")"
      ],
      "metadata": {
        "colab": {
          "base_uri": "https://localhost:8080/"
        },
        "id": "pVoGg66srZWH",
        "outputId": "95da6f5d-8a41-4e73-fad0-5b6ed45327d5"
      },
      "execution_count": 37,
      "outputs": [
        {
          "output_type": "stream",
          "name": "stdout",
          "text": [
            "Introduce un número: 9\n",
            "Números perfectos hasta 9: [6]\n"
          ]
        }
      ]
    },
    {
      "cell_type": "code",
      "source": [
        "n = int(input(\"Introduce un número: \"))\n",
        "suma_divisores = lambda num: sum(i for i in range(1, num) if num % i == 0)\n",
        "numeros_perfectos = [num for num in range(1, n + 1) if suma_divisores(num) == num]\n",
        "print(f\"Números perfectos hasta {n}: {numeros_perfectos}\")"
      ],
      "metadata": {
        "colab": {
          "base_uri": "https://localhost:8080/"
        },
        "id": "7U1tXtR0rhsA",
        "outputId": "f036c555-600c-44a1-ce4d-5550c458b842"
      },
      "execution_count": 36,
      "outputs": [
        {
          "output_type": "stream",
          "name": "stdout",
          "text": [
            "Introduce un número: 7\n",
            "Números perfectos hasta 7: [6]\n"
          ]
        }
      ]
    },
    {
      "cell_type": "markdown",
      "source": [
        "Crea un programa que genere un patrón de diamante con asteriscos."
      ],
      "metadata": {
        "id": "p8RQPk3Tsvne"
      }
    },
    {
      "cell_type": "code",
      "source": [
        "altura = int(input(\"Introduce la altura del diamante (número impar): \"))\n",
        "if altura % 2 == 0:\n",
        "    print(\"Por favor, introduce un número impar.\")\n",
        "else:\n",
        "    print(\"\\n\".join([' ' * (altura // 2 - i) + '*' * (2 * i + 1) for i in range(altura // 2 + 1)] +\n",
        "                     [' ' * (i + 1) + '*' * (2 * (altura // 2 - i) - 1) for i in range(altura // 2)]))"
      ],
      "metadata": {
        "colab": {
          "base_uri": "https://localhost:8080/"
        },
        "id": "iaq9DqDosMqQ",
        "outputId": "73e11778-62aa-4113-ae12-505f58c2329e"
      },
      "execution_count": 41,
      "outputs": [
        {
          "output_type": "stream",
          "name": "stdout",
          "text": [
            "Introduce la altura del diamante (número impar): 9\n",
            "    *\n",
            "   ***\n",
            "  *****\n",
            " *******\n",
            "*********\n",
            " *******\n",
            "  *****\n",
            "   ***\n",
            "    *\n"
          ]
        }
      ]
    },
    {
      "cell_type": "code",
      "source": [
        "altura = int(input(\"Introduce la altura del diamante (número impar): \"))\n",
        "if altura % 2 == 0:\n",
        "    print(\"Por favor, introduce un número impar.\")\n",
        "else:\n",
        "    generar_linea = lambda i: ' ' * (altura // 2 - i) + '*' * (2 * i + 1)\n",
        "    print(\"\\n\".join([generar_linea(i) for i in range(altura // 2 + 1)] +\n",
        "                     [generar_linea(altura // 2 - i) for i in range(1, altura // 2 + 1)]))"
      ],
      "metadata": {
        "colab": {
          "base_uri": "https://localhost:8080/"
        },
        "id": "slbloTUdsl9_",
        "outputId": "e062a932-d335-43a8-e05b-165638e438b3"
      },
      "execution_count": 42,
      "outputs": [
        {
          "output_type": "stream",
          "name": "stdout",
          "text": [
            "Introduce la altura del diamante (número impar): 3\n",
            " *\n",
            "***\n",
            " *\n"
          ]
        }
      ]
    },
    {
      "cell_type": "markdown",
      "source": [
        "Escribe un programa que encuentre todos los números Armstrong hasta n."
      ],
      "metadata": {
        "id": "bqnlTBd-tDAd"
      }
    },
    {
      "cell_type": "code",
      "source": [
        "n = int(input(\"Introduce un número: \"))\n",
        "numeros_armstrong = [num for num in range(n + 1) if sum(int(d) ** len(str(num)) for d in str(num)) == num]\n",
        "print(f\"Números Armstrong hasta {n}: {numeros_armstrong}\")"
      ],
      "metadata": {
        "colab": {
          "base_uri": "https://localhost:8080/"
        },
        "id": "eYxXnxIGs3hV",
        "outputId": "859b7aa0-569f-4655-8166-51f10a7936b9"
      },
      "execution_count": 43,
      "outputs": [
        {
          "output_type": "stream",
          "name": "stdout",
          "text": [
            "Introduce un número: 9\n",
            "Números Armstrong hasta 9: [0, 1, 2, 3, 4, 5, 6, 7, 8, 9]\n"
          ]
        }
      ]
    },
    {
      "cell_type": "code",
      "source": [
        "n = int(input(\"Introduce un número: \"))\n",
        "es_armstrong = lambda num: sum(int(d) ** len(str(num)) for d in str(num)) == num\n",
        "numeros_armstrong = [num for num in range(n + 1) if es_armstrong(num)]\n",
        "print(f\"Números Armstrong hasta {n}: {numeros_armstrong}\")"
      ],
      "metadata": {
        "colab": {
          "base_uri": "https://localhost:8080/"
        },
        "id": "PBDgLuEVs76V",
        "outputId": "f484a7bf-b0b1-496d-c867-09e8bea811dc"
      },
      "execution_count": 44,
      "outputs": [
        {
          "output_type": "stream",
          "name": "stdout",
          "text": [
            "Introduce un número: 3\n",
            "Números Armstrong hasta 3: [0, 1, 2, 3]\n"
          ]
        }
      ]
    },
    {
      "cell_type": "markdown",
      "source": [
        "Desarrolla un programa que simule un reloj digital mostrando horas, minutos y segundos durante un período específico."
      ],
      "metadata": {
        "id": "KMdDy-HbuJnX"
      }
    },
    {
      "cell_type": "code",
      "source": [
        "import time\n",
        "duracion = int(input(\"Introduce la duración en segundos: \"))\n",
        "for t in range(duracion + 1):\n",
        "    print(f\"{t // 3600:02}:{(t % 3600) // 60:02}:{t % 60:02}\", end='\\r')\n",
        "    time.sleep(1)\n",
        "print(\"Tiempo agotado!\")"
      ],
      "metadata": {
        "colab": {
          "base_uri": "https://localhost:8080/"
        },
        "id": "HcCzkUtLtTZt",
        "outputId": "dca2a61c-3d3f-43b7-ea28-9a5d75c6b977"
      },
      "execution_count": 50,
      "outputs": [
        {
          "output_type": "stream",
          "name": "stdout",
          "text": [
            "Introduce la duración en segundos: 1\n",
            "Tiempo agotado!\n"
          ]
        }
      ]
    },
    {
      "cell_type": "code",
      "source": [
        "import time\n",
        "duracion = int(input(\"Introduce la duración en segundos: \"))\n",
        "formatear_tiempo = lambda t: f\"{t // 3600:02}:{(t % 3600) // 60:02}:{t % 60:02}\"\n",
        "for t in range(duracion + 1):\n",
        "    print(formatear_tiempo(t), end='\\r')\n",
        "    time.sleep(1)\n",
        "print(\"Tiempo agotado!\")"
      ],
      "metadata": {
        "colab": {
          "base_uri": "https://localhost:8080/"
        },
        "id": "PrMJplu9t7bU",
        "outputId": "d1fa428e-207a-4786-ff9f-5446549cfc99"
      },
      "execution_count": 52,
      "outputs": [
        {
          "output_type": "stream",
          "name": "stdout",
          "text": [
            "Introduce la duración en segundos: 2\n",
            "Tiempo agotado!\n"
          ]
        }
      ]
    }
  ]
}